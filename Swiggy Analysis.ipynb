{
  "cells": [
    {
      "cell_type": "code",
      "execution_count": null,
      "metadata": {
        "id": "cS884lzEV-_N"
      },
      "outputs": [],
      "source": []
    },
    {
      "cell_type": "code",
      "execution_count": 14,
      "metadata": {
        "id": "hqwrw1k3VO1R"
      },
      "outputs": [],
      "source": [
        "import pandas as pd\n",
        "import numpy as py\n",
        "import matplotlib.pyplot as plt\n",
        "import seaborn as srn"
      ]
    },
    {
      "cell_type": "code",
      "execution_count": null,
      "metadata": {
        "colab": {
          "base_uri": "https://localhost:8080/",
          "height": 310
        },
        "id": "-OKMbO17MNNT",
        "outputId": "be67b960-98ca-4abe-c0a7-2ca5e1bb0729"
      },
      "outputs": [
        {
          "output_type": "execute_result",
          "data": {
            "text/plain": [
              "    ID         Area       City         Restaurant  Price  Avg ratings  \\\n",
              "0  211  Koramangala  Bangalore        Tandoor Hut  300.0          4.4   \n",
              "1  221  Koramangala  Bangalore      Tunday Kababi  300.0          4.1   \n",
              "2  246    Jogupalya  Bangalore            Kim Lee  650.0          4.4   \n",
              "3  248  Indiranagar  Bangalore  New Punjabi Hotel  250.0          3.9   \n",
              "4  249  Indiranagar  Bangalore                Nh8  350.0          4.0   \n",
              "\n",
              "   Total ratings                                          Food type  \\\n",
              "0            100          Biryani,Chinese,North Indian,South Indian   \n",
              "1            100                                   Mughlai,Lucknowi   \n",
              "2            100                                            Chinese   \n",
              "3            500               North Indian,Punjabi,Tandoor,Chinese   \n",
              "4             50  Rajasthani,Gujarati,North Indian,Snacks,Desser...   \n",
              "\n",
              "        Address  Delivery time  \n",
              "0     5Th Block             59  \n",
              "1     5Th Block             56  \n",
              "2   Double Road             50  \n",
              "3  80 Feet Road             57  \n",
              "4  80 Feet Road             63  "
            ],
            "text/html": [
              "\n",
              "  <div id=\"df-23fc60c5-4a47-43cf-9fae-4adf8a342b1d\" class=\"colab-df-container\">\n",
              "    <div>\n",
              "<style scoped>\n",
              "    .dataframe tbody tr th:only-of-type {\n",
              "        vertical-align: middle;\n",
              "    }\n",
              "\n",
              "    .dataframe tbody tr th {\n",
              "        vertical-align: top;\n",
              "    }\n",
              "\n",
              "    .dataframe thead th {\n",
              "        text-align: right;\n",
              "    }\n",
              "</style>\n",
              "<table border=\"1\" class=\"dataframe\">\n",
              "  <thead>\n",
              "    <tr style=\"text-align: right;\">\n",
              "      <th></th>\n",
              "      <th>ID</th>\n",
              "      <th>Area</th>\n",
              "      <th>City</th>\n",
              "      <th>Restaurant</th>\n",
              "      <th>Price</th>\n",
              "      <th>Avg ratings</th>\n",
              "      <th>Total ratings</th>\n",
              "      <th>Food type</th>\n",
              "      <th>Address</th>\n",
              "      <th>Delivery time</th>\n",
              "    </tr>\n",
              "  </thead>\n",
              "  <tbody>\n",
              "    <tr>\n",
              "      <th>0</th>\n",
              "      <td>211</td>\n",
              "      <td>Koramangala</td>\n",
              "      <td>Bangalore</td>\n",
              "      <td>Tandoor Hut</td>\n",
              "      <td>300.0</td>\n",
              "      <td>4.4</td>\n",
              "      <td>100</td>\n",
              "      <td>Biryani,Chinese,North Indian,South Indian</td>\n",
              "      <td>5Th Block</td>\n",
              "      <td>59</td>\n",
              "    </tr>\n",
              "    <tr>\n",
              "      <th>1</th>\n",
              "      <td>221</td>\n",
              "      <td>Koramangala</td>\n",
              "      <td>Bangalore</td>\n",
              "      <td>Tunday Kababi</td>\n",
              "      <td>300.0</td>\n",
              "      <td>4.1</td>\n",
              "      <td>100</td>\n",
              "      <td>Mughlai,Lucknowi</td>\n",
              "      <td>5Th Block</td>\n",
              "      <td>56</td>\n",
              "    </tr>\n",
              "    <tr>\n",
              "      <th>2</th>\n",
              "      <td>246</td>\n",
              "      <td>Jogupalya</td>\n",
              "      <td>Bangalore</td>\n",
              "      <td>Kim Lee</td>\n",
              "      <td>650.0</td>\n",
              "      <td>4.4</td>\n",
              "      <td>100</td>\n",
              "      <td>Chinese</td>\n",
              "      <td>Double Road</td>\n",
              "      <td>50</td>\n",
              "    </tr>\n",
              "    <tr>\n",
              "      <th>3</th>\n",
              "      <td>248</td>\n",
              "      <td>Indiranagar</td>\n",
              "      <td>Bangalore</td>\n",
              "      <td>New Punjabi Hotel</td>\n",
              "      <td>250.0</td>\n",
              "      <td>3.9</td>\n",
              "      <td>500</td>\n",
              "      <td>North Indian,Punjabi,Tandoor,Chinese</td>\n",
              "      <td>80 Feet Road</td>\n",
              "      <td>57</td>\n",
              "    </tr>\n",
              "    <tr>\n",
              "      <th>4</th>\n",
              "      <td>249</td>\n",
              "      <td>Indiranagar</td>\n",
              "      <td>Bangalore</td>\n",
              "      <td>Nh8</td>\n",
              "      <td>350.0</td>\n",
              "      <td>4.0</td>\n",
              "      <td>50</td>\n",
              "      <td>Rajasthani,Gujarati,North Indian,Snacks,Desser...</td>\n",
              "      <td>80 Feet Road</td>\n",
              "      <td>63</td>\n",
              "    </tr>\n",
              "  </tbody>\n",
              "</table>\n",
              "</div>\n",
              "    <div class=\"colab-df-buttons\">\n",
              "\n",
              "  <div class=\"colab-df-container\">\n",
              "    <button class=\"colab-df-convert\" onclick=\"convertToInteractive('df-23fc60c5-4a47-43cf-9fae-4adf8a342b1d')\"\n",
              "            title=\"Convert this dataframe to an interactive table.\"\n",
              "            style=\"display:none;\">\n",
              "\n",
              "  <svg xmlns=\"http://www.w3.org/2000/svg\" height=\"24px\" viewBox=\"0 -960 960 960\">\n",
              "    <path d=\"M120-120v-720h720v720H120Zm60-500h600v-160H180v160Zm220 220h160v-160H400v160Zm0 220h160v-160H400v160ZM180-400h160v-160H180v160Zm440 0h160v-160H620v160ZM180-180h160v-160H180v160Zm440 0h160v-160H620v160Z\"/>\n",
              "  </svg>\n",
              "    </button>\n",
              "\n",
              "  <style>\n",
              "    .colab-df-container {\n",
              "      display:flex;\n",
              "      gap: 12px;\n",
              "    }\n",
              "\n",
              "    .colab-df-convert {\n",
              "      background-color: #E8F0FE;\n",
              "      border: none;\n",
              "      border-radius: 50%;\n",
              "      cursor: pointer;\n",
              "      display: none;\n",
              "      fill: #1967D2;\n",
              "      height: 32px;\n",
              "      padding: 0 0 0 0;\n",
              "      width: 32px;\n",
              "    }\n",
              "\n",
              "    .colab-df-convert:hover {\n",
              "      background-color: #E2EBFA;\n",
              "      box-shadow: 0px 1px 2px rgba(60, 64, 67, 0.3), 0px 1px 3px 1px rgba(60, 64, 67, 0.15);\n",
              "      fill: #174EA6;\n",
              "    }\n",
              "\n",
              "    .colab-df-buttons div {\n",
              "      margin-bottom: 4px;\n",
              "    }\n",
              "\n",
              "    [theme=dark] .colab-df-convert {\n",
              "      background-color: #3B4455;\n",
              "      fill: #D2E3FC;\n",
              "    }\n",
              "\n",
              "    [theme=dark] .colab-df-convert:hover {\n",
              "      background-color: #434B5C;\n",
              "      box-shadow: 0px 1px 3px 1px rgba(0, 0, 0, 0.15);\n",
              "      filter: drop-shadow(0px 1px 2px rgba(0, 0, 0, 0.3));\n",
              "      fill: #FFFFFF;\n",
              "    }\n",
              "  </style>\n",
              "\n",
              "    <script>\n",
              "      const buttonEl =\n",
              "        document.querySelector('#df-23fc60c5-4a47-43cf-9fae-4adf8a342b1d button.colab-df-convert');\n",
              "      buttonEl.style.display =\n",
              "        google.colab.kernel.accessAllowed ? 'block' : 'none';\n",
              "\n",
              "      async function convertToInteractive(key) {\n",
              "        const element = document.querySelector('#df-23fc60c5-4a47-43cf-9fae-4adf8a342b1d');\n",
              "        const dataTable =\n",
              "          await google.colab.kernel.invokeFunction('convertToInteractive',\n",
              "                                                    [key], {});\n",
              "        if (!dataTable) return;\n",
              "\n",
              "        const docLinkHtml = 'Like what you see? Visit the ' +\n",
              "          '<a target=\"_blank\" href=https://colab.research.google.com/notebooks/data_table.ipynb>data table notebook</a>'\n",
              "          + ' to learn more about interactive tables.';\n",
              "        element.innerHTML = '';\n",
              "        dataTable['output_type'] = 'display_data';\n",
              "        await google.colab.output.renderOutput(dataTable, element);\n",
              "        const docLink = document.createElement('div');\n",
              "        docLink.innerHTML = docLinkHtml;\n",
              "        element.appendChild(docLink);\n",
              "      }\n",
              "    </script>\n",
              "  </div>\n",
              "\n",
              "\n",
              "<div id=\"df-46632651-61da-4be4-bf6d-dd861e682236\">\n",
              "  <button class=\"colab-df-quickchart\" onclick=\"quickchart('df-46632651-61da-4be4-bf6d-dd861e682236')\"\n",
              "            title=\"Suggest charts\"\n",
              "            style=\"display:none;\">\n",
              "\n",
              "<svg xmlns=\"http://www.w3.org/2000/svg\" height=\"24px\"viewBox=\"0 0 24 24\"\n",
              "     width=\"24px\">\n",
              "    <g>\n",
              "        <path d=\"M19 3H5c-1.1 0-2 .9-2 2v14c0 1.1.9 2 2 2h14c1.1 0 2-.9 2-2V5c0-1.1-.9-2-2-2zM9 17H7v-7h2v7zm4 0h-2V7h2v10zm4 0h-2v-4h2v4z\"/>\n",
              "    </g>\n",
              "</svg>\n",
              "  </button>\n",
              "\n",
              "<style>\n",
              "  .colab-df-quickchart {\n",
              "      --bg-color: #E8F0FE;\n",
              "      --fill-color: #1967D2;\n",
              "      --hover-bg-color: #E2EBFA;\n",
              "      --hover-fill-color: #174EA6;\n",
              "      --disabled-fill-color: #AAA;\n",
              "      --disabled-bg-color: #DDD;\n",
              "  }\n",
              "\n",
              "  [theme=dark] .colab-df-quickchart {\n",
              "      --bg-color: #3B4455;\n",
              "      --fill-color: #D2E3FC;\n",
              "      --hover-bg-color: #434B5C;\n",
              "      --hover-fill-color: #FFFFFF;\n",
              "      --disabled-bg-color: #3B4455;\n",
              "      --disabled-fill-color: #666;\n",
              "  }\n",
              "\n",
              "  .colab-df-quickchart {\n",
              "    background-color: var(--bg-color);\n",
              "    border: none;\n",
              "    border-radius: 50%;\n",
              "    cursor: pointer;\n",
              "    display: none;\n",
              "    fill: var(--fill-color);\n",
              "    height: 32px;\n",
              "    padding: 0;\n",
              "    width: 32px;\n",
              "  }\n",
              "\n",
              "  .colab-df-quickchart:hover {\n",
              "    background-color: var(--hover-bg-color);\n",
              "    box-shadow: 0 1px 2px rgba(60, 64, 67, 0.3), 0 1px 3px 1px rgba(60, 64, 67, 0.15);\n",
              "    fill: var(--button-hover-fill-color);\n",
              "  }\n",
              "\n",
              "  .colab-df-quickchart-complete:disabled,\n",
              "  .colab-df-quickchart-complete:disabled:hover {\n",
              "    background-color: var(--disabled-bg-color);\n",
              "    fill: var(--disabled-fill-color);\n",
              "    box-shadow: none;\n",
              "  }\n",
              "\n",
              "  .colab-df-spinner {\n",
              "    border: 2px solid var(--fill-color);\n",
              "    border-color: transparent;\n",
              "    border-bottom-color: var(--fill-color);\n",
              "    animation:\n",
              "      spin 1s steps(1) infinite;\n",
              "  }\n",
              "\n",
              "  @keyframes spin {\n",
              "    0% {\n",
              "      border-color: transparent;\n",
              "      border-bottom-color: var(--fill-color);\n",
              "      border-left-color: var(--fill-color);\n",
              "    }\n",
              "    20% {\n",
              "      border-color: transparent;\n",
              "      border-left-color: var(--fill-color);\n",
              "      border-top-color: var(--fill-color);\n",
              "    }\n",
              "    30% {\n",
              "      border-color: transparent;\n",
              "      border-left-color: var(--fill-color);\n",
              "      border-top-color: var(--fill-color);\n",
              "      border-right-color: var(--fill-color);\n",
              "    }\n",
              "    40% {\n",
              "      border-color: transparent;\n",
              "      border-right-color: var(--fill-color);\n",
              "      border-top-color: var(--fill-color);\n",
              "    }\n",
              "    60% {\n",
              "      border-color: transparent;\n",
              "      border-right-color: var(--fill-color);\n",
              "    }\n",
              "    80% {\n",
              "      border-color: transparent;\n",
              "      border-right-color: var(--fill-color);\n",
              "      border-bottom-color: var(--fill-color);\n",
              "    }\n",
              "    90% {\n",
              "      border-color: transparent;\n",
              "      border-bottom-color: var(--fill-color);\n",
              "    }\n",
              "  }\n",
              "</style>\n",
              "\n",
              "  <script>\n",
              "    async function quickchart(key) {\n",
              "      const quickchartButtonEl =\n",
              "        document.querySelector('#' + key + ' button');\n",
              "      quickchartButtonEl.disabled = true;  // To prevent multiple clicks.\n",
              "      quickchartButtonEl.classList.add('colab-df-spinner');\n",
              "      try {\n",
              "        const charts = await google.colab.kernel.invokeFunction(\n",
              "            'suggestCharts', [key], {});\n",
              "      } catch (error) {\n",
              "        console.error('Error during call to suggestCharts:', error);\n",
              "      }\n",
              "      quickchartButtonEl.classList.remove('colab-df-spinner');\n",
              "      quickchartButtonEl.classList.add('colab-df-quickchart-complete');\n",
              "    }\n",
              "    (() => {\n",
              "      let quickchartButtonEl =\n",
              "        document.querySelector('#df-46632651-61da-4be4-bf6d-dd861e682236 button');\n",
              "      quickchartButtonEl.style.display =\n",
              "        google.colab.kernel.accessAllowed ? 'block' : 'none';\n",
              "    })();\n",
              "  </script>\n",
              "</div>\n",
              "\n",
              "    </div>\n",
              "  </div>\n"
            ],
            "application/vnd.google.colaboratory.intrinsic+json": {
              "type": "dataframe",
              "variable_name": "df",
              "summary": "{\n  \"name\": \"df\",\n  \"rows\": 8680,\n  \"fields\": [\n    {\n      \"column\": \"ID\",\n      \"properties\": {\n        \"dtype\": \"number\",\n        \"std\": 158671,\n        \"min\": 211,\n        \"max\": 466928,\n        \"num_unique_values\": 8680,\n        \"samples\": [\n          316772,\n          118742,\n          280507\n        ],\n        \"semantic_type\": \"\",\n        \"description\": \"\"\n      }\n    },\n    {\n      \"column\": \"Area\",\n      \"properties\": {\n        \"dtype\": \"category\",\n        \"num_unique_values\": 833,\n        \"samples\": [\n          \"Lakdi Ka Pul\",\n          \"Umra Jakat\",\n          \"Salt Lake Area\"\n        ],\n        \"semantic_type\": \"\",\n        \"description\": \"\"\n      }\n    },\n    {\n      \"column\": \"City\",\n      \"properties\": {\n        \"dtype\": \"category\",\n        \"num_unique_values\": 9,\n        \"samples\": [\n          \"Ahmedabad\",\n          \"Hyderabad\",\n          \"Delhi\"\n        ],\n        \"semantic_type\": \"\",\n        \"description\": \"\"\n      }\n    },\n    {\n      \"column\": \"Restaurant\",\n      \"properties\": {\n        \"dtype\": \"string\",\n        \"num_unique_values\": 7865,\n        \"samples\": [\n          \"Sri Radhe Chills And Thrills\",\n          \"Rcb Bar & Cafe\",\n          \"Momo Nation Cafe\"\n        ],\n        \"semantic_type\": \"\",\n        \"description\": \"\"\n      }\n    },\n    {\n      \"column\": \"Price\",\n      \"properties\": {\n        \"dtype\": \"number\",\n        \"std\": 230.9400740572591,\n        \"min\": 0.0,\n        \"max\": 2500.0,\n        \"num_unique_values\": 120,\n        \"samples\": [\n          0.0,\n          140.0,\n          800.0\n        ],\n        \"semantic_type\": \"\",\n        \"description\": \"\"\n      }\n    },\n    {\n      \"column\": \"Avg ratings\",\n      \"properties\": {\n        \"dtype\": \"number\",\n        \"std\": 0.6476289019849697,\n        \"min\": 2.0,\n        \"max\": 5.0,\n        \"num_unique_values\": 30,\n        \"samples\": [\n          5.0,\n          3.5,\n          2.7\n        ],\n        \"semantic_type\": \"\",\n        \"description\": \"\"\n      }\n    },\n    {\n      \"column\": \"Total ratings\",\n      \"properties\": {\n        \"dtype\": \"number\",\n        \"std\": 391,\n        \"min\": 20,\n        \"max\": 10000,\n        \"num_unique_values\": 8,\n        \"samples\": [\n          500,\n          5000,\n          100\n        ],\n        \"semantic_type\": \"\",\n        \"description\": \"\"\n      }\n    },\n    {\n      \"column\": \"Food type\",\n      \"properties\": {\n        \"dtype\": \"category\",\n        \"num_unique_values\": 3734,\n        \"samples\": [\n          \"Punjabi,Thalis,North Indian,Tandoor,Snacks\",\n          \"Gujarati,North Indian,Thalis\",\n          \"Street Food,Fast Food,Snacks,Beverages\"\n        ],\n        \"semantic_type\": \"\",\n        \"description\": \"\"\n      }\n    },\n    {\n      \"column\": \"Address\",\n      \"properties\": {\n        \"dtype\": \"category\",\n        \"num_unique_values\": 2339,\n        \"samples\": [\n          \"Bheemanna Garden St Sri Ram Nagar\",\n          \"Shiva Road Sector 7\",\n          \"Oposite Hedua Park\"\n        ],\n        \"semantic_type\": \"\",\n        \"description\": \"\"\n      }\n    },\n    {\n      \"column\": \"Delivery time\",\n      \"properties\": {\n        \"dtype\": \"number\",\n        \"std\": 14,\n        \"min\": 20,\n        \"max\": 109,\n        \"num_unique_values\": 81,\n        \"samples\": [\n          35,\n          59,\n          37\n        ],\n        \"semantic_type\": \"\",\n        \"description\": \"\"\n      }\n    }\n  ]\n}"
            }
          },
          "metadata": {},
          "execution_count": 2
        }
      ],
      "source": [
        "df = pd.read_csv('/content/swiggy.csv')\n",
        "\n",
        "df.head()"
      ]
    },
    {
      "cell_type": "code",
      "execution_count": null,
      "metadata": {
        "id": "cnhna16xg0pv"
      },
      "outputs": [],
      "source": [
        "df.info()"
      ]
    },
    {
      "cell_type": "markdown",
      "metadata": {
        "id": "8aNPjkA7r9Nq"
      },
      "source": [
        "# New Section"
      ]
    },
    {
      "cell_type": "code",
      "execution_count": null,
      "metadata": {
        "colab": {
          "base_uri": "https://localhost:8080/"
        },
        "id": "XqWyTPT_NB34",
        "outputId": "ead6c4d9-eb34-436d-cb31-681e67de4626"
      },
      "outputs": [
        {
          "output_type": "execute_result",
          "data": {
            "text/plain": [
              "                  ID        Price  Avg ratings  Total ratings  Delivery time\n",
              "count    8680.000000  8680.000000  8680.000000    8680.000000    8680.000000\n",
              "mean   244812.071429   348.444470     3.655104     156.634793      53.967051\n",
              "std    158671.617188   230.940074     0.647629     391.448014      14.292335\n",
              "min       211.000000     0.000000     2.000000      20.000000      20.000000\n",
              "25%     72664.000000   200.000000     2.900000      50.000000      44.000000\n",
              "50%    283442.000000   300.000000     3.900000      80.000000      53.000000\n",
              "75%    393425.250000   400.000000     4.200000     100.000000      64.000000\n",
              "max    466928.000000  2500.000000     5.000000   10000.000000     109.000000"
            ],
            "text/html": [
              "\n",
              "  <div id=\"df-436ae665-bc9d-4c5e-b76f-8ed562009ca5\" class=\"colab-df-container\">\n",
              "    <div>\n",
              "<style scoped>\n",
              "    .dataframe tbody tr th:only-of-type {\n",
              "        vertical-align: middle;\n",
              "    }\n",
              "\n",
              "    .dataframe tbody tr th {\n",
              "        vertical-align: top;\n",
              "    }\n",
              "\n",
              "    .dataframe thead th {\n",
              "        text-align: right;\n",
              "    }\n",
              "</style>\n",
              "<table border=\"1\" class=\"dataframe\">\n",
              "  <thead>\n",
              "    <tr style=\"text-align: right;\">\n",
              "      <th></th>\n",
              "      <th>ID</th>\n",
              "      <th>Price</th>\n",
              "      <th>Avg ratings</th>\n",
              "      <th>Total ratings</th>\n",
              "      <th>Delivery time</th>\n",
              "    </tr>\n",
              "  </thead>\n",
              "  <tbody>\n",
              "    <tr>\n",
              "      <th>count</th>\n",
              "      <td>8680.000000</td>\n",
              "      <td>8680.000000</td>\n",
              "      <td>8680.000000</td>\n",
              "      <td>8680.000000</td>\n",
              "      <td>8680.000000</td>\n",
              "    </tr>\n",
              "    <tr>\n",
              "      <th>mean</th>\n",
              "      <td>244812.071429</td>\n",
              "      <td>348.444470</td>\n",
              "      <td>3.655104</td>\n",
              "      <td>156.634793</td>\n",
              "      <td>53.967051</td>\n",
              "    </tr>\n",
              "    <tr>\n",
              "      <th>std</th>\n",
              "      <td>158671.617188</td>\n",
              "      <td>230.940074</td>\n",
              "      <td>0.647629</td>\n",
              "      <td>391.448014</td>\n",
              "      <td>14.292335</td>\n",
              "    </tr>\n",
              "    <tr>\n",
              "      <th>min</th>\n",
              "      <td>211.000000</td>\n",
              "      <td>0.000000</td>\n",
              "      <td>2.000000</td>\n",
              "      <td>20.000000</td>\n",
              "      <td>20.000000</td>\n",
              "    </tr>\n",
              "    <tr>\n",
              "      <th>25%</th>\n",
              "      <td>72664.000000</td>\n",
              "      <td>200.000000</td>\n",
              "      <td>2.900000</td>\n",
              "      <td>50.000000</td>\n",
              "      <td>44.000000</td>\n",
              "    </tr>\n",
              "    <tr>\n",
              "      <th>50%</th>\n",
              "      <td>283442.000000</td>\n",
              "      <td>300.000000</td>\n",
              "      <td>3.900000</td>\n",
              "      <td>80.000000</td>\n",
              "      <td>53.000000</td>\n",
              "    </tr>\n",
              "    <tr>\n",
              "      <th>75%</th>\n",
              "      <td>393425.250000</td>\n",
              "      <td>400.000000</td>\n",
              "      <td>4.200000</td>\n",
              "      <td>100.000000</td>\n",
              "      <td>64.000000</td>\n",
              "    </tr>\n",
              "    <tr>\n",
              "      <th>max</th>\n",
              "      <td>466928.000000</td>\n",
              "      <td>2500.000000</td>\n",
              "      <td>5.000000</td>\n",
              "      <td>10000.000000</td>\n",
              "      <td>109.000000</td>\n",
              "    </tr>\n",
              "  </tbody>\n",
              "</table>\n",
              "</div>\n",
              "    <div class=\"colab-df-buttons\">\n",
              "\n",
              "  <div class=\"colab-df-container\">\n",
              "    <button class=\"colab-df-convert\" onclick=\"convertToInteractive('df-436ae665-bc9d-4c5e-b76f-8ed562009ca5')\"\n",
              "            title=\"Convert this dataframe to an interactive table.\"\n",
              "            style=\"display:none;\">\n",
              "\n",
              "  <svg xmlns=\"http://www.w3.org/2000/svg\" height=\"24px\" viewBox=\"0 -960 960 960\">\n",
              "    <path d=\"M120-120v-720h720v720H120Zm60-500h600v-160H180v160Zm220 220h160v-160H400v160Zm0 220h160v-160H400v160ZM180-400h160v-160H180v160Zm440 0h160v-160H620v160ZM180-180h160v-160H180v160Zm440 0h160v-160H620v160Z\"/>\n",
              "  </svg>\n",
              "    </button>\n",
              "\n",
              "  <style>\n",
              "    .colab-df-container {\n",
              "      display:flex;\n",
              "      gap: 12px;\n",
              "    }\n",
              "\n",
              "    .colab-df-convert {\n",
              "      background-color: #E8F0FE;\n",
              "      border: none;\n",
              "      border-radius: 50%;\n",
              "      cursor: pointer;\n",
              "      display: none;\n",
              "      fill: #1967D2;\n",
              "      height: 32px;\n",
              "      padding: 0 0 0 0;\n",
              "      width: 32px;\n",
              "    }\n",
              "\n",
              "    .colab-df-convert:hover {\n",
              "      background-color: #E2EBFA;\n",
              "      box-shadow: 0px 1px 2px rgba(60, 64, 67, 0.3), 0px 1px 3px 1px rgba(60, 64, 67, 0.15);\n",
              "      fill: #174EA6;\n",
              "    }\n",
              "\n",
              "    .colab-df-buttons div {\n",
              "      margin-bottom: 4px;\n",
              "    }\n",
              "\n",
              "    [theme=dark] .colab-df-convert {\n",
              "      background-color: #3B4455;\n",
              "      fill: #D2E3FC;\n",
              "    }\n",
              "\n",
              "    [theme=dark] .colab-df-convert:hover {\n",
              "      background-color: #434B5C;\n",
              "      box-shadow: 0px 1px 3px 1px rgba(0, 0, 0, 0.15);\n",
              "      filter: drop-shadow(0px 1px 2px rgba(0, 0, 0, 0.3));\n",
              "      fill: #FFFFFF;\n",
              "    }\n",
              "  </style>\n",
              "\n",
              "    <script>\n",
              "      const buttonEl =\n",
              "        document.querySelector('#df-436ae665-bc9d-4c5e-b76f-8ed562009ca5 button.colab-df-convert');\n",
              "      buttonEl.style.display =\n",
              "        google.colab.kernel.accessAllowed ? 'block' : 'none';\n",
              "\n",
              "      async function convertToInteractive(key) {\n",
              "        const element = document.querySelector('#df-436ae665-bc9d-4c5e-b76f-8ed562009ca5');\n",
              "        const dataTable =\n",
              "          await google.colab.kernel.invokeFunction('convertToInteractive',\n",
              "                                                    [key], {});\n",
              "        if (!dataTable) return;\n",
              "\n",
              "        const docLinkHtml = 'Like what you see? Visit the ' +\n",
              "          '<a target=\"_blank\" href=https://colab.research.google.com/notebooks/data_table.ipynb>data table notebook</a>'\n",
              "          + ' to learn more about interactive tables.';\n",
              "        element.innerHTML = '';\n",
              "        dataTable['output_type'] = 'display_data';\n",
              "        await google.colab.output.renderOutput(dataTable, element);\n",
              "        const docLink = document.createElement('div');\n",
              "        docLink.innerHTML = docLinkHtml;\n",
              "        element.appendChild(docLink);\n",
              "      }\n",
              "    </script>\n",
              "  </div>\n",
              "\n",
              "\n",
              "<div id=\"df-c083ab53-6e59-4805-9f1c-949848af12cc\">\n",
              "  <button class=\"colab-df-quickchart\" onclick=\"quickchart('df-c083ab53-6e59-4805-9f1c-949848af12cc')\"\n",
              "            title=\"Suggest charts\"\n",
              "            style=\"display:none;\">\n",
              "\n",
              "<svg xmlns=\"http://www.w3.org/2000/svg\" height=\"24px\"viewBox=\"0 0 24 24\"\n",
              "     width=\"24px\">\n",
              "    <g>\n",
              "        <path d=\"M19 3H5c-1.1 0-2 .9-2 2v14c0 1.1.9 2 2 2h14c1.1 0 2-.9 2-2V5c0-1.1-.9-2-2-2zM9 17H7v-7h2v7zm4 0h-2V7h2v10zm4 0h-2v-4h2v4z\"/>\n",
              "    </g>\n",
              "</svg>\n",
              "  </button>\n",
              "\n",
              "<style>\n",
              "  .colab-df-quickchart {\n",
              "      --bg-color: #E8F0FE;\n",
              "      --fill-color: #1967D2;\n",
              "      --hover-bg-color: #E2EBFA;\n",
              "      --hover-fill-color: #174EA6;\n",
              "      --disabled-fill-color: #AAA;\n",
              "      --disabled-bg-color: #DDD;\n",
              "  }\n",
              "\n",
              "  [theme=dark] .colab-df-quickchart {\n",
              "      --bg-color: #3B4455;\n",
              "      --fill-color: #D2E3FC;\n",
              "      --hover-bg-color: #434B5C;\n",
              "      --hover-fill-color: #FFFFFF;\n",
              "      --disabled-bg-color: #3B4455;\n",
              "      --disabled-fill-color: #666;\n",
              "  }\n",
              "\n",
              "  .colab-df-quickchart {\n",
              "    background-color: var(--bg-color);\n",
              "    border: none;\n",
              "    border-radius: 50%;\n",
              "    cursor: pointer;\n",
              "    display: none;\n",
              "    fill: var(--fill-color);\n",
              "    height: 32px;\n",
              "    padding: 0;\n",
              "    width: 32px;\n",
              "  }\n",
              "\n",
              "  .colab-df-quickchart:hover {\n",
              "    background-color: var(--hover-bg-color);\n",
              "    box-shadow: 0 1px 2px rgba(60, 64, 67, 0.3), 0 1px 3px 1px rgba(60, 64, 67, 0.15);\n",
              "    fill: var(--button-hover-fill-color);\n",
              "  }\n",
              "\n",
              "  .colab-df-quickchart-complete:disabled,\n",
              "  .colab-df-quickchart-complete:disabled:hover {\n",
              "    background-color: var(--disabled-bg-color);\n",
              "    fill: var(--disabled-fill-color);\n",
              "    box-shadow: none;\n",
              "  }\n",
              "\n",
              "  .colab-df-spinner {\n",
              "    border: 2px solid var(--fill-color);\n",
              "    border-color: transparent;\n",
              "    border-bottom-color: var(--fill-color);\n",
              "    animation:\n",
              "      spin 1s steps(1) infinite;\n",
              "  }\n",
              "\n",
              "  @keyframes spin {\n",
              "    0% {\n",
              "      border-color: transparent;\n",
              "      border-bottom-color: var(--fill-color);\n",
              "      border-left-color: var(--fill-color);\n",
              "    }\n",
              "    20% {\n",
              "      border-color: transparent;\n",
              "      border-left-color: var(--fill-color);\n",
              "      border-top-color: var(--fill-color);\n",
              "    }\n",
              "    30% {\n",
              "      border-color: transparent;\n",
              "      border-left-color: var(--fill-color);\n",
              "      border-top-color: var(--fill-color);\n",
              "      border-right-color: var(--fill-color);\n",
              "    }\n",
              "    40% {\n",
              "      border-color: transparent;\n",
              "      border-right-color: var(--fill-color);\n",
              "      border-top-color: var(--fill-color);\n",
              "    }\n",
              "    60% {\n",
              "      border-color: transparent;\n",
              "      border-right-color: var(--fill-color);\n",
              "    }\n",
              "    80% {\n",
              "      border-color: transparent;\n",
              "      border-right-color: var(--fill-color);\n",
              "      border-bottom-color: var(--fill-color);\n",
              "    }\n",
              "    90% {\n",
              "      border-color: transparent;\n",
              "      border-bottom-color: var(--fill-color);\n",
              "    }\n",
              "  }\n",
              "</style>\n",
              "\n",
              "  <script>\n",
              "    async function quickchart(key) {\n",
              "      const quickchartButtonEl =\n",
              "        document.querySelector('#' + key + ' button');\n",
              "      quickchartButtonEl.disabled = true;  // To prevent multiple clicks.\n",
              "      quickchartButtonEl.classList.add('colab-df-spinner');\n",
              "      try {\n",
              "        const charts = await google.colab.kernel.invokeFunction(\n",
              "            'suggestCharts', [key], {});\n",
              "      } catch (error) {\n",
              "        console.error('Error during call to suggestCharts:', error);\n",
              "      }\n",
              "      quickchartButtonEl.classList.remove('colab-df-spinner');\n",
              "      quickchartButtonEl.classList.add('colab-df-quickchart-complete');\n",
              "    }\n",
              "    (() => {\n",
              "      let quickchartButtonEl =\n",
              "        document.querySelector('#df-c083ab53-6e59-4805-9f1c-949848af12cc button');\n",
              "      quickchartButtonEl.style.display =\n",
              "        google.colab.kernel.accessAllowed ? 'block' : 'none';\n",
              "    })();\n",
              "  </script>\n",
              "</div>\n",
              "\n",
              "    </div>\n",
              "  </div>\n"
            ],
            "application/vnd.google.colaboratory.intrinsic+json": {
              "type": "dataframe",
              "summary": "{\n  \"name\": \"df\",\n  \"rows\": 8,\n  \"fields\": [\n    {\n      \"column\": \"ID\",\n      \"properties\": {\n        \"dtype\": \"number\",\n        \"std\": 174016.47219738242,\n        \"min\": 211.0,\n        \"max\": 466928.0,\n        \"num_unique_values\": 8,\n        \"samples\": [\n          244812.07142857142,\n          283442.0,\n          8680.0\n        ],\n        \"semantic_type\": \"\",\n        \"description\": \"\"\n      }\n    },\n    {\n      \"column\": \"Price\",\n      \"properties\": {\n        \"dtype\": \"number\",\n        \"std\": 2976.6866704219965,\n        \"min\": 0.0,\n        \"max\": 8680.0,\n        \"num_unique_values\": 8,\n        \"samples\": [\n          348.4444700460829,\n          300.0,\n          8680.0\n        ],\n        \"semantic_type\": \"\",\n        \"description\": \"\"\n      }\n    },\n    {\n      \"column\": \"Avg ratings\",\n      \"properties\": {\n        \"dtype\": \"number\",\n        \"std\": 3067.7172744800637,\n        \"min\": 0.6476289019849697,\n        \"max\": 8680.0,\n        \"num_unique_values\": 8,\n        \"samples\": [\n          3.655103686635944,\n          3.9,\n          8680.0\n        ],\n        \"semantic_type\": \"\",\n        \"description\": \"\"\n      }\n    },\n    {\n      \"column\": \"Total ratings\",\n      \"properties\": {\n        \"dtype\": \"number\",\n        \"std\": 4278.100417544023,\n        \"min\": 20.0,\n        \"max\": 10000.0,\n        \"num_unique_values\": 8,\n        \"samples\": [\n          156.6347926267281,\n          80.0,\n          8680.0\n        ],\n        \"semantic_type\": \"\",\n        \"description\": \"\"\n      }\n    },\n    {\n      \"column\": \"Delivery time\",\n      \"properties\": {\n        \"dtype\": \"number\",\n        \"std\": 3050.8868060520113,\n        \"min\": 14.292334831865539,\n        \"max\": 8680.0,\n        \"num_unique_values\": 8,\n        \"samples\": [\n          53.96705069124424,\n          53.0,\n          8680.0\n        ],\n        \"semantic_type\": \"\",\n        \"description\": \"\"\n      }\n    }\n  ]\n}"
            }
          },
          "metadata": {},
          "execution_count": 3
        }
      ],
      "source": [
        "df.describe()"
      ]
    },
    {
      "cell_type": "code",
      "execution_count": null,
      "metadata": {
        "colab": {
          "base_uri": "https://localhost:8080/"
        },
        "id": "pWV0QwIfNR8s",
        "outputId": "138c18f3-710a-42cf-c1af-5f2365ce630f"
      },
      "outputs": [
        {
          "output_type": "execute_result",
          "data": {
            "text/plain": [
              "ID               0\n",
              "Area             0\n",
              "City             0\n",
              "Restaurant       0\n",
              "Price            0\n",
              "Avg ratings      0\n",
              "Total ratings    0\n",
              "Food type        0\n",
              "Address          0\n",
              "Delivery time    0\n",
              "dtype: int64"
            ]
          },
          "metadata": {},
          "execution_count": 4
        }
      ],
      "source": [
        "df.isnull().sum()"
      ]
    },
    {
      "cell_type": "markdown",
      "metadata": {
        "id": "hGEhj85RXPNy"
      },
      "source": [
        "# 1. Number of Restaurants by City."
      ]
    },
    {
      "cell_type": "code",
      "execution_count": null,
      "metadata": {
        "colab": {
          "base_uri": "https://localhost:8080/",
          "height": 669
        },
        "id": "XvfJnCDoNV9o",
        "outputId": "aa8283b1-bff4-4cc0-912f-1b8a243b99d6"
      },
      "outputs": [
        {
          "output_type": "display_data",
          "data": {
            "text/plain": [
              "City\n",
              "Surat         505\n",
              "Delhi         611\n",
              "Ahmedabad     709\n",
              "Bangalore     938\n",
              "Hyderabad    1030\n",
              "Pune         1080\n",
              "Chennai      1096\n",
              "Mumbai       1253\n",
              "Kolkata      1325\n",
              "Name: Restaurant, dtype: int64"
            ]
          },
          "metadata": {}
        },
        {
          "output_type": "execute_result",
          "data": {
            "text/plain": [
              "Text(0.5, 1.0, 'Total Restaurants by City')"
            ]
          },
          "metadata": {},
          "execution_count": 5
        },
        {
          "output_type": "display_data",
          "data": {
            "text/plain": [
              "<Figure size 640x480 with 1 Axes>"
            ],
            "image/png": "[encoded data removed]"
          },
          "metadata": {}
        }
      ],
      "source": [
        "Total_restaurants_by_city = df[['City','Restaurant']].groupby(['City'])['Restaurant'].nunique()\n",
        "display(Total_restaurants_by_city.sort_values())\n",
        "Total_restaurants_by_city.plot(kind='barh', x='city')\n",
        "plt.title('Total Restaurants by City')\n"
      ]
    },
    {
      "cell_type": "markdown",
      "metadata": {
        "id": "wnv092fdYmm8"
      },
      "source": [
        "### The distribution of Restaurants across Cities identifies the Market potential in each city and helps in targeting strategies."
      ]
    },
    {
      "cell_type": "markdown",
      "metadata": {
        "id": "Bu9-VY4ZYIHg"
      },
      "source": [
        "# 2. Number of Restaurants by Area and City."
      ]
    },
    {
      "cell_type": "code",
      "execution_count": null,
      "metadata": {
        "colab": {
          "base_uri": "https://localhost:8080/",
          "height": 252
        },
        "id": "qs05Cb3zPz8w",
        "outputId": "134ef490-3c27-44e5-be28-00b9c7a665b8"
      },
      "outputs": [
        {
          "output_type": "display_data",
          "data": {
            "text/plain": [
              "City       Area                \n",
              "Ahmedabad   Akhbar Nagar Circle     1\n",
              "           Acher                    1\n",
              "           Ahmedabad                9\n",
              "           Ambavadi                 1\n",
              "           Ambawadi                25\n",
              "                                   ..\n",
              "Surat      Vesu                    21\n",
              "           Vip Road                 1\n",
              "           Vishal Nagar             6\n",
              "           Yamuna Nagar             3\n",
              "           Yoginagar Society        1\n",
              "Name: Restaurant, Length: 843, dtype: int64"
            ]
          },
          "metadata": {}
        }
      ],
      "source": [
        "Total_restaurants_by_city_and_area = df[['City','Restaurant','Area']].groupby(['City','Area'])['Restaurant'].nunique()\n",
        "display(Total_restaurants_by_city_and_area)\n"
      ]
    },
    {
      "cell_type": "markdown",
      "metadata": {
        "id": "g4EVZoF3Z0ye"
      },
      "source": [
        "### This distribution allows for more granular analysis which enables Swiggy to better understand local market dynamics, target specific neighborhoods with tailored marketing strategies, and optimize delivery logistics based on geographical proximity."
      ]
    },
    {
      "cell_type": "markdown",
      "metadata": {
        "id": "NqA4-n8hYRiH"
      },
      "source": [
        "# 3. Average Order Price by each City."
      ]
    },
    {
      "cell_type": "code",
      "execution_count": null,
      "metadata": {
        "colab": {
          "base_uri": "https://localhost:8080/",
          "height": 906
        },
        "id": "Z28rYI5sQqsy",
        "outputId": "69842043-3dc2-45fd-acec-e4baf020aa65"
      },
      "outputs": [
        {
          "output_type": "display_data",
          "data": {
            "text/plain": [
              "            Avg_Price  Total_orders\n",
              "City                               \n",
              "Mumbai     393.794832          1277\n",
              "Bangalore  382.524313           946\n",
              "Kolkata    362.294205          1346\n",
              "Chennai    356.247740          1106\n",
              "Pune       353.763303          1090\n",
              "Delhi      333.301146           611\n",
              "Ahmedabad  318.128312           717\n",
              "Hyderabad  299.926512          1075\n",
              "Surat      270.171875           512"
            ],
            "text/html": [
              "\n",
              "  <div id=\"df-679eee35-ea05-4bc6-aa87-705fe2a63c69\" class=\"colab-df-container\">\n",
              "    <div>\n",
              "<style scoped>\n",
              "    .dataframe tbody tr th:only-of-type {\n",
              "        vertical-align: middle;\n",
              "    }\n",
              "\n",
              "    .dataframe tbody tr th {\n",
              "        vertical-align: top;\n",
              "    }\n",
              "\n",
              "    .dataframe thead th {\n",
              "        text-align: right;\n",
              "    }\n",
              "</style>\n",
              "<table border=\"1\" class=\"dataframe\">\n",
              "  <thead>\n",
              "    <tr style=\"text-align: right;\">\n",
              "      <th></th>\n",
              "      <th>Avg_Price</th>\n",
              "      <th>Total_orders</th>\n",
              "    </tr>\n",
              "    <tr>\n",
              "      <th>City</th>\n",
              "      <th></th>\n",
              "      <th></th>\n",
              "    </tr>\n",
              "  </thead>\n",
              "  <tbody>\n",
              "    <tr>\n",
              "      <th>Mumbai</th>\n",
              "      <td>393.794832</td>\n",
              "      <td>1277</td>\n",
              "    </tr>\n",
              "    <tr>\n",
              "      <th>Bangalore</th>\n",
              "      <td>382.524313</td>\n",
              "      <td>946</td>\n",
              "    </tr>\n",
              "    <tr>\n",
              "      <th>Kolkata</th>\n",
              "      <td>362.294205</td>\n",
              "      <td>1346</td>\n",
              "    </tr>\n",
              "    <tr>\n",
              "      <th>Chennai</th>\n",
              "      <td>356.247740</td>\n",
              "      <td>1106</td>\n",
              "    </tr>\n",
              "    <tr>\n",
              "      <th>Pune</th>\n",
              "      <td>353.763303</td>\n",
              "      <td>1090</td>\n",
              "    </tr>\n",
              "    <tr>\n",
              "      <th>Delhi</th>\n",
              "      <td>333.301146</td>\n",
              "      <td>611</td>\n",
              "    </tr>\n",
              "    <tr>\n",
              "      <th>Ahmedabad</th>\n",
              "      <td>318.128312</td>\n",
              "      <td>717</td>\n",
              "    </tr>\n",
              "    <tr>\n",
              "      <th>Hyderabad</th>\n",
              "      <td>299.926512</td>\n",
              "      <td>1075</td>\n",
              "    </tr>\n",
              "    <tr>\n",
              "      <th>Surat</th>\n",
              "      <td>270.171875</td>\n",
              "      <td>512</td>\n",
              "    </tr>\n",
              "  </tbody>\n",
              "</table>\n",
              "</div>\n",
              "    <div class=\"colab-df-buttons\">\n",
              "\n",
              "  <div class=\"colab-df-container\">\n",
              "    <button class=\"colab-df-convert\" onclick=\"convertToInteractive('df-679eee35-ea05-4bc6-aa87-705fe2a63c69')\"\n",
              "            title=\"Convert this dataframe to an interactive table.\"\n",
              "            style=\"display:none;\">\n",
              "\n",
              "  <svg xmlns=\"http://www.w3.org/2000/svg\" height=\"24px\" viewBox=\"0 -960 960 960\">\n",
              "    <path d=\"M120-120v-720h720v720H120Zm60-500h600v-160H180v160Zm220 220h160v-160H400v160Zm0 220h160v-160H400v160ZM180-400h160v-160H180v160Zm440 0h160v-160H620v160ZM180-180h160v-160H180v160Zm440 0h160v-160H620v160Z\"/>\n",
              "  </svg>\n",
              "    </button>\n",
              "\n",
              "  <style>\n",
              "    .colab-df-container {\n",
              "      display:flex;\n",
              "      gap: 12px;\n",
              "    }\n",
              "\n",
              "    .colab-df-convert {\n",
              "      background-color: #E8F0FE;\n",
              "      border: none;\n",
              "      border-radius: 50%;\n",
              "      cursor: pointer;\n",
              "      display: none;\n",
              "      fill: #1967D2;\n",
              "      height: 32px;\n",
              "      padding: 0 0 0 0;\n",
              "      width: 32px;\n",
              "    }\n",
              "\n",
              "    .colab-df-convert:hover {\n",
              "      background-color: #E2EBFA;\n",
              "      box-shadow: 0px 1px 2px rgba(60, 64, 67, 0.3), 0px 1px 3px 1px rgba(60, 64, 67, 0.15);\n",
              "      fill: #174EA6;\n",
              "    }\n",
              "\n",
              "    .colab-df-buttons div {\n",
              "      margin-bottom: 4px;\n",
              "    }\n",
              "\n",
              "    [theme=dark] .colab-df-convert {\n",
              "      background-color: #3B4455;\n",
              "      fill: #D2E3FC;\n",
              "    }\n",
              "\n",
              "    [theme=dark] .colab-df-convert:hover {\n",
              "      background-color: #434B5C;\n",
              "      box-shadow: 0px 1px 3px 1px rgba(0, 0, 0, 0.15);\n",
              "      filter: drop-shadow(0px 1px 2px rgba(0, 0, 0, 0.3));\n",
              "      fill: #FFFFFF;\n",
              "    }\n",
              "  </style>\n",
              "\n",
              "    <script>\n",
              "      const buttonEl =\n",
              "        document.querySelector('#df-679eee35-ea05-4bc6-aa87-705fe2a63c69 button.colab-df-convert');\n",
              "      buttonEl.style.display =\n",
              "        google.colab.kernel.accessAllowed ? 'block' : 'none';\n",
              "\n",
              "      async function convertToInteractive(key) {\n",
              "        const element = document.querySelector('#df-679eee35-ea05-4bc6-aa87-705fe2a63c69');\n",
              "        const dataTable =\n",
              "          await google.colab.kernel.invokeFunction('convertToInteractive',\n",
              "                                                    [key], {});\n",
              "        if (!dataTable) return;\n",
              "\n",
              "        const docLinkHtml = 'Like what you see? Visit the ' +\n",
              "          '<a target=\"_blank\" href=https://colab.research.google.com/notebooks/data_table.ipynb>data table notebook</a>'\n",
              "          + ' to learn more about interactive tables.';\n",
              "        element.innerHTML = '';\n",
              "        dataTable['output_type'] = 'display_data';\n",
              "        await google.colab.output.renderOutput(dataTable, element);\n",
              "        const docLink = document.createElement('div');\n",
              "        docLink.innerHTML = docLinkHtml;\n",
              "        element.appendChild(docLink);\n",
              "      }\n",
              "    </script>\n",
              "  </div>\n",
              "\n",
              "\n",
              "<div id=\"df-a3e6241b-d2f6-4cfa-93f9-64aa2ba49456\">\n",
              "  <button class=\"colab-df-quickchart\" onclick=\"quickchart('df-a3e6241b-d2f6-4cfa-93f9-64aa2ba49456')\"\n",
              "            title=\"Suggest charts\"\n",
              "            style=\"display:none;\">\n",
              "\n",
              "<svg xmlns=\"http://www.w3.org/2000/svg\" height=\"24px\"viewBox=\"0 0 24 24\"\n",
              "     width=\"24px\">\n",
              "    <g>\n",
              "        <path d=\"M19 3H5c-1.1 0-2 .9-2 2v14c0 1.1.9 2 2 2h14c1.1 0 2-.9 2-2V5c0-1.1-.9-2-2-2zM9 17H7v-7h2v7zm4 0h-2V7h2v10zm4 0h-2v-4h2v4z\"/>\n",
              "    </g>\n",
              "</svg>\n",
              "  </button>\n",
              "\n",
              "<style>\n",
              "  .colab-df-quickchart {\n",
              "      --bg-color: #E8F0FE;\n",
              "      --fill-color: #1967D2;\n",
              "      --hover-bg-color: #E2EBFA;\n",
              "      --hover-fill-color: #174EA6;\n",
              "      --disabled-fill-color: #AAA;\n",
              "      --disabled-bg-color: #DDD;\n",
              "  }\n",
              "\n",
              "  [theme=dark] .colab-df-quickchart {\n",
              "      --bg-color: #3B4455;\n",
              "      --fill-color: #D2E3FC;\n",
              "      --hover-bg-color: #434B5C;\n",
              "      --hover-fill-color: #FFFFFF;\n",
              "      --disabled-bg-color: #3B4455;\n",
              "      --disabled-fill-color: #666;\n",
              "  }\n",
              "\n",
              "  .colab-df-quickchart {\n",
              "    background-color: var(--bg-color);\n",
              "    border: none;\n",
              "    border-radius: 50%;\n",
              "    cursor: pointer;\n",
              "    display: none;\n",
              "    fill: var(--fill-color);\n",
              "    height: 32px;\n",
              "    padding: 0;\n",
              "    width: 32px;\n",
              "  }\n",
              "\n",
              "  .colab-df-quickchart:hover {\n",
              "    background-color: var(--hover-bg-color);\n",
              "    box-shadow: 0 1px 2px rgba(60, 64, 67, 0.3), 0 1px 3px 1px rgba(60, 64, 67, 0.15);\n",
              "    fill: var(--button-hover-fill-color);\n",
              "  }\n",
              "\n",
              "  .colab-df-quickchart-complete:disabled,\n",
              "  .colab-df-quickchart-complete:disabled:hover {\n",
              "    background-color: var(--disabled-bg-color);\n",
              "    fill: var(--disabled-fill-color);\n",
              "    box-shadow: none;\n",
              "  }\n",
              "\n",
              "  .colab-df-spinner {\n",
              "    border: 2px solid var(--fill-color);\n",
              "    border-color: transparent;\n",
              "    border-bottom-color: var(--fill-color);\n",
              "    animation:\n",
              "      spin 1s steps(1) infinite;\n",
              "  }\n",
              "\n",
              "  @keyframes spin {\n",
              "    0% {\n",
              "      border-color: transparent;\n",
              "      border-bottom-color: var(--fill-color);\n",
              "      border-left-color: var(--fill-color);\n",
              "    }\n",
              "    20% {\n",
              "      border-color: transparent;\n",
              "      border-left-color: var(--fill-color);\n",
              "      border-top-color: var(--fill-color);\n",
              "    }\n",
              "    30% {\n",
              "      border-color: transparent;\n",
              "      border-left-color: var(--fill-color);\n",
              "      border-top-color: var(--fill-color);\n",
              "      border-right-color: var(--fill-color);\n",
              "    }\n",
              "    40% {\n",
              "      border-color: transparent;\n",
              "      border-right-color: var(--fill-color);\n",
              "      border-top-color: var(--fill-color);\n",
              "    }\n",
              "    60% {\n",
              "      border-color: transparent;\n",
              "      border-right-color: var(--fill-color);\n",
              "    }\n",
              "    80% {\n",
              "      border-color: transparent;\n",
              "      border-right-color: var(--fill-color);\n",
              "      border-bottom-color: var(--fill-color);\n",
              "    }\n",
              "    90% {\n",
              "      border-color: transparent;\n",
              "      border-bottom-color: var(--fill-color);\n",
              "    }\n",
              "  }\n",
              "</style>\n",
              "\n",
              "  <script>\n",
              "    async function quickchart(key) {\n",
              "      const quickchartButtonEl =\n",
              "        document.querySelector('#' + key + ' button');\n",
              "      quickchartButtonEl.disabled = true;  // To prevent multiple clicks.\n",
              "      quickchartButtonEl.classList.add('colab-df-spinner');\n",
              "      try {\n",
              "        const charts = await google.colab.kernel.invokeFunction(\n",
              "            'suggestCharts', [key], {});\n",
              "      } catch (error) {\n",
              "        console.error('Error during call to suggestCharts:', error);\n",
              "      }\n",
              "      quickchartButtonEl.classList.remove('colab-df-spinner');\n",
              "      quickchartButtonEl.classList.add('colab-df-quickchart-complete');\n",
              "    }\n",
              "    (() => {\n",
              "      let quickchartButtonEl =\n",
              "        document.querySelector('#df-a3e6241b-d2f6-4cfa-93f9-64aa2ba49456 button');\n",
              "      quickchartButtonEl.style.display =\n",
              "        google.colab.kernel.accessAllowed ? 'block' : 'none';\n",
              "    })();\n",
              "  </script>\n",
              "</div>\n",
              "\n",
              "    </div>\n",
              "  </div>\n"
            ],
            "application/vnd.google.colaboratory.intrinsic+json": {
              "type": "dataframe",
              "summary": "{\n  \"name\": \"plt\",\n  \"rows\": 9,\n  \"fields\": [\n    {\n      \"column\": \"City\",\n      \"properties\": {\n        \"dtype\": \"string\",\n        \"num_unique_values\": 9,\n        \"samples\": [\n          \"Hyderabad\",\n          \"Bangalore\",\n          \"Delhi\"\n        ],\n        \"semantic_type\": \"\",\n        \"description\": \"\"\n      }\n    },\n    {\n      \"column\": \"Avg_Price\",\n      \"properties\": {\n        \"dtype\": \"number\",\n        \"std\": 39.759110765098235,\n        \"min\": 270.171875,\n        \"max\": 393.7948316366484,\n        \"num_unique_values\": 9,\n        \"samples\": [\n          299.92651162790696,\n          382.52431289640595,\n          333.3011456628478\n        ],\n        \"semantic_type\": \"\",\n        \"description\": \"\"\n      }\n    },\n    {\n      \"column\": \"Total_orders\",\n      \"properties\": {\n        \"dtype\": \"number\",\n        \"std\": 292,\n        \"min\": 512,\n        \"max\": 1346,\n        \"num_unique_values\": 9,\n        \"samples\": [\n          1075,\n          946,\n          611\n        ],\n        \"semantic_type\": \"\",\n        \"description\": \"\"\n      }\n    }\n  ]\n}"
            }
          },
          "metadata": {}
        },
        {
          "output_type": "execute_result",
          "data": {
            "text/plain": [
              "Text(0.5, 1.0, 'Average Price by City')"
            ]
          },
          "metadata": {},
          "execution_count": 7
        },
        {
          "output_type": "display_data",
          "data": {
            "text/plain": [
              "<Figure size 640x480 with 1 Axes>"
            ],
            "image/png": "[encoded data removed]"
          },
          "metadata": {}
        }
      ],
      "source": [
        "Avgprice_by_city = df[['City','Price','ID']].groupby(['City']).agg(Avg_Price =('Price','mean'), Total_orders = ('ID', 'nunique'))\n",
        "display(Avgprice_by_city.sort_values(by='Avg_Price',ascending=False))\n",
        "Avgprice_by_city.plot(kind='bar',color='orange',y='Avg_Price')\n",
        "plt.title('Average Price by City')\n"
      ]
    },
    {
      "cell_type": "markdown",
      "metadata": {
        "id": "BuQs37iEaPQE"
      },
      "source": [
        "### This helps in understanding spending pattern and enable Swiggy to identify potential pricing strategies, and curate promotional offers based on regional preferences to enhance customer satisfaction."
      ]
    },
    {
      "cell_type": "markdown",
      "metadata": {
        "id": "ntpVW2RZZHEA"
      },
      "source": [
        "# 4. Expensive City based on Average Food Price and Number of Orders placed."
      ]
    },
    {
      "cell_type": "code",
      "execution_count": null,
      "metadata": {
        "id": "-ZOAOTg7XJsC"
      },
      "outputs": [],
      "source": [
        "Expensive_City = df[['City','Price','ID']].groupby(['City']).agg(Avg_Price =('Price','mean'), Total_orders = ('ID', 'nunique'))\n",
        "Expensive_City['Price_ratio'] = Expensive_City['Avg_Price'] / Expensive_City['Total_orders']"
      ]
    },
    {
      "cell_type": "code",
      "execution_count": null,
      "metadata": {
        "colab": {
          "base_uri": "https://localhost:8080/",
          "height": 832
        },
        "id": "TjA87mqnWcEH",
        "outputId": "cc5df180-b92e-4926-fe77-f549c84155d9"
      },
      "outputs": [
        {
          "data": {
            "application/vnd.google.colaboratory.intrinsic+json": {
              "summary": "{\n  \"name\": \"plt\",\n  \"rows\": 9,\n  \"fields\": [\n    {\n      \"column\": \"City\",\n      \"properties\": {\n        \"dtype\": \"string\",\n        \"num_unique_values\": 9,\n        \"samples\": [\n          \"Hyderabad\",\n          \"Surat\",\n          \"Chennai\"\n        ],\n        \"semantic_type\": \"\",\n        \"description\": \"\"\n      }\n    },\n    {\n      \"column\": \"Avg_Price\",\n      \"properties\": {\n        \"dtype\": \"number\",\n        \"std\": 39.759110765098235,\n        \"min\": 270.171875,\n        \"max\": 393.7948316366484,\n        \"num_unique_values\": 9,\n        \"samples\": [\n          299.92651162790696,\n          270.171875,\n          356.24773960217\n        ],\n        \"semantic_type\": \"\",\n        \"description\": \"\"\n      }\n    },\n    {\n      \"column\": \"Total_orders\",\n      \"properties\": {\n        \"dtype\": \"number\",\n        \"std\": 292,\n        \"min\": 512,\n        \"max\": 1346,\n        \"num_unique_values\": 9,\n        \"samples\": [\n          1075,\n          512,\n          1106\n        ],\n        \"semantic_type\": \"\",\n        \"description\": \"\"\n      }\n    },\n    {\n      \"column\": \"Price_ratio\",\n      \"properties\": {\n        \"dtype\": \"number\",\n        \"std\": 0.10481511322569392,\n        \"min\": 0.26916359959287217,\n        \"max\": 0.5455010567313384,\n        \"num_unique_values\": 9,\n        \"samples\": [\n          0.27900140616549485,\n          0.527679443359375,\n          0.3221046470182369\n        ],\n        \"semantic_type\": \"\",\n        \"description\": \"\"\n      }\n    }\n  ]\n}",
              "type": "dataframe"
            },
            "text/html": [
              "\n",
              "  <div id=\"df-472e5f41-0ba3-4115-a65e-e8abdedfa1f6\" class=\"colab-df-container\">\n",
              "    <div>\n",
              "<style scoped>\n",
              "    .dataframe tbody tr th:only-of-type {\n",
              "        vertical-align: middle;\n",
              "    }\n",
              "\n",
              "    .dataframe tbody tr th {\n",
              "        vertical-align: top;\n",
              "    }\n",
              "\n",
              "    .dataframe thead th {\n",
              "        text-align: right;\n",
              "    }\n",
              "</style>\n",
              "<table border=\"1\" class=\"dataframe\">\n",
              "  <thead>\n",
              "    <tr style=\"text-align: right;\">\n",
              "      <th></th>\n",
              "      <th>Avg_Price</th>\n",
              "      <th>Total_orders</th>\n",
              "      <th>Price_ratio</th>\n",
              "    </tr>\n",
              "    <tr>\n",
              "      <th>City</th>\n",
              "      <th></th>\n",
              "      <th></th>\n",
              "      <th></th>\n",
              "    </tr>\n",
              "  </thead>\n",
              "  <tbody>\n",
              "    <tr>\n",
              "      <th>Delhi</th>\n",
              "      <td>333.301146</td>\n",
              "      <td>611</td>\n",
              "      <td>0.545501</td>\n",
              "    </tr>\n",
              "    <tr>\n",
              "      <th>Surat</th>\n",
              "      <td>270.171875</td>\n",
              "      <td>512</td>\n",
              "      <td>0.527679</td>\n",
              "    </tr>\n",
              "    <tr>\n",
              "      <th>Ahmedabad</th>\n",
              "      <td>318.128312</td>\n",
              "      <td>717</td>\n",
              "      <td>0.443694</td>\n",
              "    </tr>\n",
              "    <tr>\n",
              "      <th>Bangalore</th>\n",
              "      <td>382.524313</td>\n",
              "      <td>946</td>\n",
              "      <td>0.404360</td>\n",
              "    </tr>\n",
              "    <tr>\n",
              "      <th>Pune</th>\n",
              "      <td>353.763303</td>\n",
              "      <td>1090</td>\n",
              "      <td>0.324553</td>\n",
              "    </tr>\n",
              "    <tr>\n",
              "      <th>Chennai</th>\n",
              "      <td>356.247740</td>\n",
              "      <td>1106</td>\n",
              "      <td>0.322105</td>\n",
              "    </tr>\n",
              "    <tr>\n",
              "      <th>Mumbai</th>\n",
              "      <td>393.794832</td>\n",
              "      <td>1277</td>\n",
              "      <td>0.308375</td>\n",
              "    </tr>\n",
              "    <tr>\n",
              "      <th>Hyderabad</th>\n",
              "      <td>299.926512</td>\n",
              "      <td>1075</td>\n",
              "      <td>0.279001</td>\n",
              "    </tr>\n",
              "    <tr>\n",
              "      <th>Kolkata</th>\n",
              "      <td>362.294205</td>\n",
              "      <td>1346</td>\n",
              "      <td>0.269164</td>\n",
              "    </tr>\n",
              "  </tbody>\n",
              "</table>\n",
              "</div>\n",
              "    <div class=\"colab-df-buttons\">\n",
              "\n",
              "  <div class=\"colab-df-container\">\n",
              "    <button class=\"colab-df-convert\" onclick=\"convertToInteractive('df-472e5f41-0ba3-4115-a65e-e8abdedfa1f6')\"\n",
              "            title=\"Convert this dataframe to an interactive table.\"\n",
              "            style=\"display:none;\">\n",
              "\n",
              "  <svg xmlns=\"http://www.w3.org/2000/svg\" height=\"24px\" viewBox=\"0 -960 960 960\">\n",
              "    <path d=\"M120-120v-720h720v720H120Zm60-500h600v-160H180v160Zm220 220h160v-160H400v160Zm0 220h160v-160H400v160ZM180-400h160v-160H180v160Zm440 0h160v-160H620v160ZM180-180h160v-160H180v160Zm440 0h160v-160H620v160Z\"/>\n",
              "  </svg>\n",
              "    </button>\n",
              "\n",
              "  <style>\n",
              "    .colab-df-container {\n",
              "      display:flex;\n",
              "      gap: 12px;\n",
              "    }\n",
              "\n",
              "    .colab-df-convert {\n",
              "      background-color: #E8F0FE;\n",
              "      border: none;\n",
              "      border-radius: 50%;\n",
              "      cursor: pointer;\n",
              "      display: none;\n",
              "      fill: #1967D2;\n",
              "      height: 32px;\n",
              "      padding: 0 0 0 0;\n",
              "      width: 32px;\n",
              "    }\n",
              "\n",
              "    .colab-df-convert:hover {\n",
              "      background-color: #E2EBFA;\n",
              "      box-shadow: 0px 1px 2px rgba(60, 64, 67, 0.3), 0px 1px 3px 1px rgba(60, 64, 67, 0.15);\n",
              "      fill: #174EA6;\n",
              "    }\n",
              "\n",
              "    .colab-df-buttons div {\n",
              "      margin-bottom: 4px;\n",
              "    }\n",
              "\n",
              "    [theme=dark] .colab-df-convert {\n",
              "      background-color: #3B4455;\n",
              "      fill: #D2E3FC;\n",
              "    }\n",
              "\n",
              "    [theme=dark] .colab-df-convert:hover {\n",
              "      background-color: #434B5C;\n",
              "      box-shadow: 0px 1px 3px 1px rgba(0, 0, 0, 0.15);\n",
              "      filter: drop-shadow(0px 1px 2px rgba(0, 0, 0, 0.3));\n",
              "      fill: #FFFFFF;\n",
              "    }\n",
              "  </style>\n",
              "\n",
              "    <script>\n",
              "      const buttonEl =\n",
              "        document.querySelector('#df-472e5f41-0ba3-4115-a65e-e8abdedfa1f6 button.colab-df-convert');\n",
              "      buttonEl.style.display =\n",
              "        google.colab.kernel.accessAllowed ? 'block' : 'none';\n",
              "\n",
              "      async function convertToInteractive(key) {\n",
              "        const element = document.querySelector('#df-472e5f41-0ba3-4115-a65e-e8abdedfa1f6');\n",
              "        const dataTable =\n",
              "          await google.colab.kernel.invokeFunction('convertToInteractive',\n",
              "                                                    [key], {});\n",
              "        if (!dataTable) return;\n",
              "\n",
              "        const docLinkHtml = 'Like what you see? Visit the ' +\n",
              "          '<a target=\"_blank\" href=https://colab.research.google.com/notebooks/data_table.ipynb>data table notebook</a>'\n",
              "          + ' to learn more about interactive tables.';\n",
              "        element.innerHTML = '';\n",
              "        dataTable['output_type'] = 'display_data';\n",
              "        await google.colab.output.renderOutput(dataTable, element);\n",
              "        const docLink = document.createElement('div');\n",
              "        docLink.innerHTML = docLinkHtml;\n",
              "        element.appendChild(docLink);\n",
              "      }\n",
              "    </script>\n",
              "  </div>\n",
              "\n",
              "\n",
              "<div id=\"df-d0e42924-6a1a-4b0e-881f-87e10f7f79b2\">\n",
              "  <button class=\"colab-df-quickchart\" onclick=\"quickchart('df-d0e42924-6a1a-4b0e-881f-87e10f7f79b2')\"\n",
              "            title=\"Suggest charts\"\n",
              "            style=\"display:none;\">\n",
              "\n",
              "<svg xmlns=\"http://www.w3.org/2000/svg\" height=\"24px\"viewBox=\"0 0 24 24\"\n",
              "     width=\"24px\">\n",
              "    <g>\n",
              "        <path d=\"M19 3H5c-1.1 0-2 .9-2 2v14c0 1.1.9 2 2 2h14c1.1 0 2-.9 2-2V5c0-1.1-.9-2-2-2zM9 17H7v-7h2v7zm4 0h-2V7h2v10zm4 0h-2v-4h2v4z\"/>\n",
              "    </g>\n",
              "</svg>\n",
              "  </button>\n",
              "\n",
              "<style>\n",
              "  .colab-df-quickchart {\n",
              "      --bg-color: #E8F0FE;\n",
              "      --fill-color: #1967D2;\n",
              "      --hover-bg-color: #E2EBFA;\n",
              "      --hover-fill-color: #174EA6;\n",
              "      --disabled-fill-color: #AAA;\n",
              "      --disabled-bg-color: #DDD;\n",
              "  }\n",
              "\n",
              "  [theme=dark] .colab-df-quickchart {\n",
              "      --bg-color: #3B4455;\n",
              "      --fill-color: #D2E3FC;\n",
              "      --hover-bg-color: #434B5C;\n",
              "      --hover-fill-color: #FFFFFF;\n",
              "      --disabled-bg-color: #3B4455;\n",
              "      --disabled-fill-color: #666;\n",
              "  }\n",
              "\n",
              "  .colab-df-quickchart {\n",
              "    background-color: var(--bg-color);\n",
              "    border: none;\n",
              "    border-radius: 50%;\n",
              "    cursor: pointer;\n",
              "    display: none;\n",
              "    fill: var(--fill-color);\n",
              "    height: 32px;\n",
              "    padding: 0;\n",
              "    width: 32px;\n",
              "  }\n",
              "\n",
              "  .colab-df-quickchart:hover {\n",
              "    background-color: var(--hover-bg-color);\n",
              "    box-shadow: 0 1px 2px rgba(60, 64, 67, 0.3), 0 1px 3px 1px rgba(60, 64, 67, 0.15);\n",
              "    fill: var(--button-hover-fill-color);\n",
              "  }\n",
              "\n",
              "  .colab-df-quickchart-complete:disabled,\n",
              "  .colab-df-quickchart-complete:disabled:hover {\n",
              "    background-color: var(--disabled-bg-color);\n",
              "    fill: var(--disabled-fill-color);\n",
              "    box-shadow: none;\n",
              "  }\n",
              "\n",
              "  .colab-df-spinner {\n",
              "    border: 2px solid var(--fill-color);\n",
              "    border-color: transparent;\n",
              "    border-bottom-color: var(--fill-color);\n",
              "    animation:\n",
              "      spin 1s steps(1) infinite;\n",
              "  }\n",
              "\n",
              "  @keyframes spin {\n",
              "    0% {\n",
              "      border-color: transparent;\n",
              "      border-bottom-color: var(--fill-color);\n",
              "      border-left-color: var(--fill-color);\n",
              "    }\n",
              "    20% {\n",
              "      border-color: transparent;\n",
              "      border-left-color: var(--fill-color);\n",
              "      border-top-color: var(--fill-color);\n",
              "    }\n",
              "    30% {\n",
              "      border-color: transparent;\n",
              "      border-left-color: var(--fill-color);\n",
              "      border-top-color: var(--fill-color);\n",
              "      border-right-color: var(--fill-color);\n",
              "    }\n",
              "    40% {\n",
              "      border-color: transparent;\n",
              "      border-right-color: var(--fill-color);\n",
              "      border-top-color: var(--fill-color);\n",
              "    }\n",
              "    60% {\n",
              "      border-color: transparent;\n",
              "      border-right-color: var(--fill-color);\n",
              "    }\n",
              "    80% {\n",
              "      border-color: transparent;\n",
              "      border-right-color: var(--fill-color);\n",
              "      border-bottom-color: var(--fill-color);\n",
              "    }\n",
              "    90% {\n",
              "      border-color: transparent;\n",
              "      border-bottom-color: var(--fill-color);\n",
              "    }\n",
              "  }\n",
              "</style>\n",
              "\n",
              "  <script>\n",
              "    async function quickchart(key) {\n",
              "      const quickchartButtonEl =\n",
              "        document.querySelector('#' + key + ' button');\n",
              "      quickchartButtonEl.disabled = true;  // To prevent multiple clicks.\n",
              "      quickchartButtonEl.classList.add('colab-df-spinner');\n",
              "      try {\n",
              "        const charts = await google.colab.kernel.invokeFunction(\n",
              "            'suggestCharts', [key], {});\n",
              "      } catch (error) {\n",
              "        console.error('Error during call to suggestCharts:', error);\n",
              "      }\n",
              "      quickchartButtonEl.classList.remove('colab-df-spinner');\n",
              "      quickchartButtonEl.classList.add('colab-df-quickchart-complete');\n",
              "    }\n",
              "    (() => {\n",
              "      let quickchartButtonEl =\n",
              "        document.querySelector('#df-d0e42924-6a1a-4b0e-881f-87e10f7f79b2 button');\n",
              "      quickchartButtonEl.style.display =\n",
              "        google.colab.kernel.accessAllowed ? 'block' : 'none';\n",
              "    })();\n",
              "  </script>\n",
              "</div>\n",
              "\n",
              "    </div>\n",
              "  </div>\n"
            ],
            "text/plain": [
              "            Avg_Price  Total_orders  Price_ratio\n",
              "City                                            \n",
              "Delhi      333.301146           611     0.545501\n",
              "Surat      270.171875           512     0.527679\n",
              "Ahmedabad  318.128312           717     0.443694\n",
              "Bangalore  382.524313           946     0.404360\n",
              "Pune       353.763303          1090     0.324553\n",
              "Chennai    356.247740          1106     0.322105\n",
              "Mumbai     393.794832          1277     0.308375\n",
              "Hyderabad  299.926512          1075     0.279001\n",
              "Kolkata    362.294205          1346     0.269164"
            ]
          },
          "metadata": {},
          "output_type": "display_data"
        },
        {
          "data": {
            "image/png": "[encoded data removed]",
            "text/plain": [
              "<Figure size 640x480 with 1 Axes>"
            ]
          },
          "metadata": {},
          "output_type": "display_data"
        }
      ],
      "source": [
        "display(Expensive_City.sort_values(by='Price_ratio',ascending=False))\n",
        "Expensive_City.plot(kind='line',y='Price_ratio',color='red')\n",
        "plt.title('Expensive City')\n",
        "plt.tight_layout()\n",
        "plt.subplots_adjust()"
      ]
    },
    {
      "cell_type": "markdown",
      "metadata": {
        "id": "sDqMz80RbcNe"
      },
      "source": [
        "###  By analyzing these metrics together, Swiggy can pinpoint lucrative markets with a high demand for premium food options and craft its business strategies accordingly and capitalize on revenue opportunities in affluent markets."
      ]
    },
    {
      "cell_type": "markdown",
      "metadata": {
        "id": "FmZRr8wFisQM"
      },
      "source": [
        "# 5. Minimum and Maximum Delivery times based on Food type and associated Restaurants."
      ]
    },
    {
      "cell_type": "code",
      "execution_count": null,
      "metadata": {
        "colab": {
          "base_uri": "https://localhost:8080/"
        },
        "id": "ZKoObYnQZamL",
        "outputId": "d8d5d65e-70f4-48ea-a471-6c5418d9b0c2"
      },
      "outputs": [
        {
          "output_type": "execute_result",
          "data": {
            "text/plain": [
              "City       Area                  Food type                                                              Restaurant             \n",
              "Hyderabad  Koti                  Ice Cream,Desserts,Beverages                                           Scoops                     20\n",
              "Delhi      Budh Vihar            Indian,Chinese                                                         Wah Ji Wah ( Budhvihar)    21\n",
              "Surat      Udhna                 Beverages,Chinese,Punjabi                                              Sarvottam Restaurant       22\n",
              "Hyderabad  Gowliguda             Haleem,Arabian,Biryani,Tandoor,Chinese,Indian,Desserts,Kebabs,Mughlai  Hotel Niagara              23\n",
              "           Narayanguda           Ice Cream,Desserts                                                     Nic Natural Ice Creams     23\n",
              "           Abids                 Ice Cream                                                              Famous Ice Cream           24\n",
              "           Venkateshwara Colony  Desserts  Ice Cream  Chaat                                             Scoops                     24\n",
              "           Koti                  Biryani,Tandoor,Chinese,Indian,Kebabs,Desserts                         Grand Hotel                24\n",
              "Surat      Majura Gate           Punjabi,Thalis,Combo,North Indian,Mughlai,Gujarati,Biryani             Jalaram Khichdi            24\n",
              "Mumbai     Santacruz East        Ice Cream,Desserts                                                     Apsara Ice Creams          24\n",
              "Name: Delivery time, dtype: int64"
            ]
          },
          "metadata": {},
          "execution_count": 9
        }
      ],
      "source": [
        "Min_delivery_time = df.groupby(['City','Area','Food type','Restaurant'])['Delivery time'].min()\n",
        "Min_delivery_time.sort_values().head(10)"
      ]
    },
    {
      "cell_type": "code",
      "execution_count": 12,
      "metadata": {
        "id": "15f6xdfHesHg",
        "colab": {
          "base_uri": "https://localhost:8080/"
        },
        "outputId": "92902dcd-1cc7-40de-fd6f-7855a9a98463"
      },
      "outputs": [
        {
          "output_type": "execute_result",
          "data": {
            "text/plain": [
              "City     Area           Food type         Restaurant                    \n",
              "Kolkata  Kestopur       Indian            Heavens Kitchen                   109\n",
              "         Santoshpur     Chinese,Desserts  Yin Yang - Pan Asian Delicacy     100\n",
              "         Lake Town      Fast Food         Sandwizz                           98\n",
              "                        North Indian      Shree Ganesh Home Kitchen          98\n",
              "         Tollygunge     Chinese           Fatty Mamma Chinese Restaurant     98\n",
              "         Ruby Area      Indian            Dastaan                            98\n",
              "         Dumdum         Chinese,Pastas    Tamang'S Frozen Momo               98\n",
              "                        Chinese,Indian    Hesel Food Court                   97\n",
              "         Rabindrapally  North Indian      Me & U                             97\n",
              "         Kidderpore     Chinese,Seafood   Red Chilli Restaurant              97\n",
              "Name: Delivery time, dtype: int64"
            ]
          },
          "metadata": {},
          "execution_count": 12
        }
      ],
      "source": [
        "Max_delivery_time = df.groupby(['City','Area','Food type','Restaurant'])['Delivery time'].max()\n",
        "Max_delivery_time.sort_values(ascending= False).head(10)"
      ]
    },
    {
      "cell_type": "markdown",
      "metadata": {
        "id": "VxOlZ_E5cYz-"
      },
      "source": [
        "### This provides valuable insights into service efficiency and operational performance. This analysis enables Swiggy to identify trends, optimize delivery logistics, and enhance service quality to meet customer expectations across different food types and restaurant partners."
      ]
    },
    {
      "cell_type": "markdown",
      "metadata": {
        "id": "fsiSx0DrjMeP"
      },
      "source": [
        "# 6. Ten Most ordered Food types."
      ]
    },
    {
      "cell_type": "code",
      "execution_count": 15,
      "metadata": {
        "colab": {
          "base_uri": "https://localhost:8080/",
          "height": 502
        },
        "id": "OP3ZiTrUggaK",
        "outputId": "dcf5e1d0-7c27-4b9d-d4de-1e8adf016e23"
      },
      "outputs": [
        {
          "output_type": "stream",
          "name": "stderr",
          "text": [
            "<ipython-input-15-1e8f146c70d4>:1: FutureWarning: Using the level keyword in DataFrame and Series aggregations is deprecated and will be removed in a future version. Use groupby instead. df.median(level=1) should use df.groupby(level=1).median().\n",
            "  Most_ordered_foodtype = df.groupby(['Food type'])['ID'].nunique().max(level = 'Food type')\n"
          ]
        },
        {
          "output_type": "execute_result",
          "data": {
            "text/plain": [
              "Text(0.5, 1.0, 'Most Ordered Food Types')"
            ]
          },
          "metadata": {},
          "execution_count": 15
        },
        {
          "output_type": "display_data",
          "data": {
            "text/plain": [
              "<Figure size 640x480 with 1 Axes>"
            ],
            "image/png": "[encoded data removed]"
          },
          "metadata": {}
        }
      ],
      "source": [
        "Most_ordered_foodtype = df.groupby(['Food type'])['ID'].nunique().max(level = 'Food type')\n",
        "Most_ordered_Foodtype =Most_ordered_foodtype.sort_values(ascending=False).head(10)\n",
        "Most_ordered_Foodtype.plot(kind='pie')\n",
        "plt.title('Most Ordered Food Types')"
      ]
    },
    {
      "cell_type": "markdown",
      "metadata": {
        "id": "plWmxMjSc20W"
      },
      "source": [
        "### This allows to understand popular Customer food choices and helps Swiggy prioritize menu recommendations, promotional campaigns, and partnerships with restaurants to meet customer demand and drive order volumes."
      ]
    },
    {
      "cell_type": "markdown",
      "metadata": {
        "id": "EtNUOHZVlkhI"
      },
      "source": [
        "# 7. Assessing Quality of food by Average ratings provided by Customers in each City."
      ]
    },
    {
      "cell_type": "code",
      "execution_count": 18,
      "metadata": {
        "colab": {
          "base_uri": "https://localhost:8080/",
          "height": 470
        },
        "id": "dW4dQZKLkOKD",
        "outputId": "7babed67-45bb-455d-b0e1-c4d247a1ba82"
      },
      "outputs": [
        {
          "output_type": "execute_result",
          "data": {
            "text/plain": [
              "Text(0.5, 1.0, 'Average Ratings of Food by each City')"
            ]
          },
          "metadata": {},
          "execution_count": 18
        },
        {
          "output_type": "display_data",
          "data": {
            "text/plain": [
              "<Figure size 640x480 with 1 Axes>"
            ],
            "image/png": "[encoded data removed]"
          },
          "metadata": {}
        }
      ],
      "source": [
        "Avg_ratings_by_city = df.groupby(['City'])['Avg ratings'].mean()\n",
        "Avg_Ratings = Avg_ratings_by_city.sort_values(ascending= False)\n",
        "Avg_Ratings.plot(kind='barh', color='green')\n",
        "plt.title('Average Ratings of Food by each City')"
      ]
    },
    {
      "cell_type": "markdown",
      "metadata": {
        "id": "zx8LFPfadjiu"
      },
      "source": [
        "### This provides insights into Customer Satisfaction levels and overall service experience so that Swiggy can identify areas of strength, prioritize partnerships with highly-rated restaurants and implement targeted initiatives to enhance food quality and customer satisfaction."
      ]
    },
    {
      "cell_type": "markdown",
      "metadata": {
        "id": "qB78prxTnO-z"
      },
      "source": [
        "# 8.Top 5 Highly Rated Restaurants in each City."
      ]
    },
    {
      "cell_type": "code",
      "execution_count": null,
      "metadata": {
        "colab": {
          "base_uri": "https://localhost:8080/"
        },
        "id": "m6BNUBmanNOm",
        "outputId": "f4ab2e21-e3d6-49dc-c598-bdd4b1aa124f"
      },
      "outputs": [
        {
          "data": {
            "text/plain": [
              "Restaurant\n",
              "Afresh             5.00\n",
              "1By2               4.90\n",
              "Milkie Mustache    4.90\n",
              "Ricky'S Cookies    4.90\n",
              "Nasi And Mee       4.75\n",
              "Name: Avg ratings, dtype: float64"
            ]
          },
          "execution_count": 75,
          "metadata": {},
          "output_type": "execute_result"
        }
      ],
      "source": [
        "Chennai = df[df['City']== 'Chennai']\n",
        "Chennai_Highly_rated_restaurants = Chennai.groupby('Restaurant')['Avg ratings'].mean()\n",
        "Chennai_Highly_rated_restaurants.sort_values(ascending=False).head(5)\n"
      ]
    },
    {
      "cell_type": "code",
      "execution_count": null,
      "metadata": {
        "id": "Shdrli4lpbex"
      },
      "outputs": [],
      "source": []
    },
    {
      "cell_type": "code",
      "execution_count": null,
      "metadata": {
        "colab": {
          "base_uri": "https://localhost:8080/"
        },
        "id": "S1yHzi6FpcK6",
        "outputId": "2e416bb4-9541-4cda-9884-15c55d7d42f9"
      },
      "outputs": [
        {
          "data": {
            "text/plain": [
              "Restaurant\n",
              "Tricky Shakes             5.0\n",
              "Creams & Bites            5.0\n",
              "Frosty Crumble            4.9\n",
              "Royce' Chocolate          4.9\n",
              "Keventers Ice Creamery    4.9\n",
              "Name: Avg ratings, dtype: float64"
            ]
          },
          "execution_count": 77,
          "metadata": {},
          "output_type": "execute_result"
        }
      ],
      "source": [
        "Bangalore = df[df['City']== 'Bangalore']\n",
        "Bangalore_Highly_rated_restaurants = Bangalore.groupby('Restaurant')['Avg ratings'].mean()\n",
        "Bangalore_Highly_rated_restaurants.sort_values(ascending=False).head(5)\n"
      ]
    },
    {
      "cell_type": "code",
      "execution_count": null,
      "metadata": {
        "id": "GmrbO9pppm_F"
      },
      "outputs": [],
      "source": []
    },
    {
      "cell_type": "code",
      "execution_count": null,
      "metadata": {
        "colab": {
          "base_uri": "https://localhost:8080/"
        },
        "id": "6HkGJzVOpneE",
        "outputId": "bc4eb09d-7344-4112-84ec-c6633b81fc3f"
      },
      "outputs": [
        {
          "data": {
            "text/plain": [
              "Restaurant\n",
              "Splurge - Thickshakes And Milkshakes    5.0\n",
              "Wallonia Waffle Co.                     5.0\n",
              "The Liege Waffles                       5.0\n",
              "Zorro - Milkshakes And Thickshakes      5.0\n",
              "Snack House                             4.9\n",
              "Name: Avg ratings, dtype: float64"
            ]
          },
          "execution_count": 79,
          "metadata": {},
          "output_type": "execute_result"
        }
      ],
      "source": [
        "Hyderabad = df[df['City']== 'Hyderabad']\n",
        "Hyderabad_Highly_rated_restaurants = Hyderabad.groupby('Restaurant')['Avg ratings'].mean()\n",
        "Hyderabad_Highly_rated_restaurants.sort_values(ascending=False).head(5)\n"
      ]
    },
    {
      "cell_type": "code",
      "execution_count": null,
      "metadata": {
        "id": "8crIbbJWp5UQ"
      },
      "outputs": [],
      "source": []
    },
    {
      "cell_type": "code",
      "execution_count": null,
      "metadata": {
        "colab": {
          "base_uri": "https://localhost:8080/"
        },
        "id": "v2askNgqp5uq",
        "outputId": "7f1235f6-7704-4f40-bfc8-efdf1db27545"
      },
      "outputs": [
        {
          "data": {
            "text/plain": [
              "Restaurant\n",
              "Keventers Ice Creamery                     5.0\n",
              "Pabrai'S Fresh And Naturelle Icecream      4.9\n",
              "Pabrai'S Fresh And Naturelle Ice Creams    4.8\n",
              "What'S Your Flavour?                       4.8\n",
              "Natural Ice Cream                          4.8\n",
              "Name: Avg ratings, dtype: float64"
            ]
          },
          "execution_count": 81,
          "metadata": {},
          "output_type": "execute_result"
        }
      ],
      "source": [
        "Kolkata = df[df['City']== 'Kolkata']\n",
        "Kolkata_Highly_rated_restaurants = Kolkata.groupby('Restaurant')['Avg ratings'].mean()\n",
        "Kolkata_Highly_rated_restaurants.sort_values(ascending=False).head(5)\n"
      ]
    },
    {
      "cell_type": "code",
      "execution_count": null,
      "metadata": {
        "id": "JUE0RvX2qIuQ"
      },
      "outputs": [],
      "source": []
    },
    {
      "cell_type": "code",
      "execution_count": null,
      "metadata": {
        "colab": {
          "base_uri": "https://localhost:8080/"
        },
        "id": "VnODbabOqJQl",
        "outputId": "1def5347-9c7c-4721-dc96-625ad3aa5fd4"
      },
      "outputs": [
        {
          "data": {
            "text/plain": [
              "Restaurant\n",
              "Diamond Market Pizza Jp    5.0\n",
              "Cafe Kokomo                5.0\n",
              "Get In My Belly            5.0\n",
              "Nivala Apka Apna           5.0\n",
              "The Asian Pavilion         5.0\n",
              "Name: Avg ratings, dtype: float64"
            ]
          },
          "execution_count": 83,
          "metadata": {},
          "output_type": "execute_result"
        }
      ],
      "source": [
        "Mumbai = df[df['City']== 'Mumbai']\n",
        "Mumbai_Highly_rated_restaurants = Mumbai.groupby('Restaurant')['Avg ratings'].mean()\n",
        "Mumbai_Highly_rated_restaurants.sort_values(ascending=False).head(5)\n"
      ]
    },
    {
      "cell_type": "code",
      "execution_count": null,
      "metadata": {
        "id": "fOcZUjDnqUul"
      },
      "outputs": [],
      "source": []
    },
    {
      "cell_type": "code",
      "execution_count": null,
      "metadata": {
        "colab": {
          "base_uri": "https://localhost:8080/"
        },
        "id": "IKisHcKlqVlh",
        "outputId": "89c41be8-3d4a-4854-8801-56d4a1201656"
      },
      "outputs": [
        {
          "data": {
            "text/plain": [
              "Restaurant\n",
              "Natural Ice Cream                         4.8\n",
              "Ching Chong Chinese                       4.8\n",
              "Wok On Fire - Indo Chinese - Pan Asian    4.8\n",
              "Chup Chaap                                4.8\n",
              "Puffing - The Live Puff                   4.7\n",
              "Name: Avg ratings, dtype: float64"
            ]
          },
          "execution_count": 85,
          "metadata": {},
          "output_type": "execute_result"
        }
      ],
      "source": [
        "Ahmedabad = df[df['City']== 'Ahmedabad']\n",
        "Ahmedabad_Highly_rated_restaurants = Ahmedabad.groupby('Restaurant')['Avg ratings'].mean()\n",
        "Ahmedabad_Highly_rated_restaurants.sort_values(ascending=False).head(5)\n"
      ]
    },
    {
      "cell_type": "code",
      "execution_count": null,
      "metadata": {
        "id": "KSoPZkCGqiZ3"
      },
      "outputs": [],
      "source": []
    },
    {
      "cell_type": "code",
      "execution_count": null,
      "metadata": {
        "colab": {
          "base_uri": "https://localhost:8080/"
        },
        "id": "8mmzswZYqi5y",
        "outputId": "1ec809d1-06c3-481f-c3f3-3eed20156de9"
      },
      "outputs": [
        {
          "data": {
            "text/plain": [
              "Restaurant\n",
              "Sobis Diet Farm               4.8\n",
              "Kudrati Kahumbo               4.8\n",
              "The Pancake Story             4.8\n",
              "The Bungalow Cafe             4.7\n",
              "Amardeep Icecream & Juices    4.7\n",
              "Name: Avg ratings, dtype: float64"
            ]
          },
          "execution_count": 86,
          "metadata": {},
          "output_type": "execute_result"
        }
      ],
      "source": [
        "Surat = df[df['City']== 'Surat']\n",
        "Surat_Highly_rated_restaurants = Surat.groupby('Restaurant')['Avg ratings'].mean()\n",
        "Surat_Highly_rated_restaurants.sort_values(ascending=False).head(5)\n"
      ]
    },
    {
      "cell_type": "code",
      "execution_count": null,
      "metadata": {
        "id": "HNs_Ga4fqo60"
      },
      "outputs": [],
      "source": []
    },
    {
      "cell_type": "code",
      "execution_count": null,
      "metadata": {
        "colab": {
          "base_uri": "https://localhost:8080/"
        },
        "id": "LaRmQ6jQqpxe",
        "outputId": "a6e1ccd1-ff8b-4760-d140-ced6c720b523"
      },
      "outputs": [
        {
          "data": {
            "text/plain": [
              "Restaurant\n",
              "Shree Krishna Juice Bar    5.0\n",
              "Papacream                  5.0\n",
              "Gulp                       4.9\n",
              "Rosso Bianco               4.8\n",
              "Arun Ice Creams            4.8\n",
              "Name: Avg ratings, dtype: float64"
            ]
          },
          "execution_count": 88,
          "metadata": {},
          "output_type": "execute_result"
        }
      ],
      "source": [
        "Pune = df[df['City']== 'Pune']\n",
        "Pune_Highly_rated_restaurants = Pune.groupby('Restaurant')['Avg ratings'].mean()\n",
        "Pune_Highly_rated_restaurants.sort_values(ascending=False).head(5)\n"
      ]
    },
    {
      "cell_type": "code",
      "execution_count": null,
      "metadata": {
        "id": "_JYLV3GBrJWd"
      },
      "outputs": [],
      "source": []
    },
    {
      "cell_type": "code",
      "execution_count": null,
      "metadata": {
        "colab": {
          "base_uri": "https://localhost:8080/"
        },
        "id": "BY6nsxDerMXU",
        "outputId": "763c0570-6da2-48ef-af59-3a9bdb1072ab"
      },
      "outputs": [
        {
          "data": {
            "text/plain": [
              "Restaurant\n",
              "Fat Tiger                                5.0\n",
              "Pizza Paradise By Vhc                    4.8\n",
              "Biryani By Kilo                          4.8\n",
              "The Sugar Free Keto Kafe - By Artinci    4.8\n",
              "Wok On Fire                              4.7\n",
              "Name: Avg ratings, dtype: float64"
            ]
          },
          "execution_count": 89,
          "metadata": {},
          "output_type": "execute_result"
        }
      ],
      "source": [
        "Delhi = df[df['City']== 'Delhi']\n",
        "Delhi_Highly_rated_restaurants = Delhi.groupby('Restaurant')['Avg ratings'].mean()\n",
        "Delhi_Highly_rated_restaurants.sort_values(ascending=False).head(5)\n"
      ]
    },
    {
      "cell_type": "markdown",
      "metadata": {
        "id": "lxnF63YAeXRy"
      },
      "source": [
        "### This showcases establishments known for exceptional quality and customer satisfaction allows customers to discover popular dining options, enhances Swiggy's reputation as a trusted platform for restaurant recommendations, and drives customer engagement and loyalty."
      ]
    },
    {
      "cell_type": "markdown",
      "metadata": {
        "id": "1Tf-Qu-1r5Ei"
      },
      "source": [
        "# 9. Top Restaurants from which Most Orders placed by each City."
      ]
    },
    {
      "cell_type": "code",
      "execution_count": null,
      "metadata": {
        "id": "u3riPqrnt_cl"
      },
      "outputs": [],
      "source": []
    },
    {
      "cell_type": "code",
      "execution_count": null,
      "metadata": {
        "colab": {
          "base_uri": "https://localhost:8080/"
        },
        "id": "zfKi6OlAuCI3",
        "outputId": "5d0fe25a-3f73-42af-c035-853cc57dab07"
      },
      "outputs": [
        {
          "data": {
            "text/plain": [
              "Restaurant\n",
              "London Dairy                   2\n",
              "One Way Paratha                2\n",
              "Crazy Momos                    2\n",
              "Kareem'S                       2\n",
              "Getawhey- Healthy Ice Cream    2\n",
              "Name: ID, dtype: int64"
            ]
          },
          "execution_count": 118,
          "metadata": {},
          "output_type": "execute_result"
        }
      ],
      "source": [
        "Pune = df[df['City']== 'Pune']\n",
        "Pune_Mostly_ordered_restaurants = Pune.groupby('Restaurant')['ID'].count()\n",
        "Pune_Mostly_ordered_restaurants.sort_values(ascending=False).head(5)\n"
      ]
    },
    {
      "cell_type": "code",
      "execution_count": null,
      "metadata": {
        "id": "XPbduYxUvy7Y"
      },
      "outputs": [],
      "source": []
    },
    {
      "cell_type": "code",
      "execution_count": null,
      "metadata": {
        "colab": {
          "base_uri": "https://localhost:8080/"
        },
        "id": "vUSKGjl_xSX0",
        "outputId": "a322b754-6f64-4aee-9871-1a4cb262d19e"
      },
      "outputs": [
        {
          "data": {
            "text/plain": [
              "Restaurant\n",
              "The Grand Sweets And Snacks - Amirtham Restaurant    3\n",
              "Lassi Shop                                           3\n",
              "Nasi And Mee                                         2\n",
              "Perambur Sri Srinivasa Sweets And Snacks             2\n",
              "Alibaba Shawarma And 40 Dishes                       2\n",
              "Name: ID, dtype: int64"
            ]
          },
          "execution_count": 119,
          "metadata": {},
          "output_type": "execute_result"
        }
      ],
      "source": [
        "Chennai = df[df['City']== 'Chennai']\n",
        "Chennai_Mostly_ordered_restaurants = Chennai.groupby('Restaurant')['ID'].count()\n",
        "Chennai_Mostly_ordered_restaurants.sort_values(ascending=False).head(5)\n"
      ]
    },
    {
      "cell_type": "code",
      "execution_count": null,
      "metadata": {
        "id": "onEfjOwfyPjP"
      },
      "outputs": [],
      "source": []
    },
    {
      "cell_type": "code",
      "execution_count": null,
      "metadata": {
        "colab": {
          "base_uri": "https://localhost:8080/"
        },
        "id": "luOtlS9fyQC3",
        "outputId": "39007972-8090-4ea4-8d0b-edd5598d290a"
      },
      "outputs": [
        {
          "data": {
            "text/plain": [
              "Restaurant\n",
              "Merwans Cake Stop              2\n",
              "Wow! China                     2\n",
              "Shiv Sagar                     2\n",
              "Poetry By Love & Cheesecake    2\n",
              "Newyork Burrito Company        2\n",
              "Name: ID, dtype: int64"
            ]
          },
          "execution_count": 123,
          "metadata": {},
          "output_type": "execute_result"
        }
      ],
      "source": [
        "Mumbai = df[df['City']== 'Mumbai']\n",
        "Mumbai_Mostly_ordered_restaurants = Mumbai.groupby('Restaurant')['ID'].count()\n",
        "Mumbai_Mostly_ordered_restaurants.sort_values(ascending=False).head(5)\n"
      ]
    },
    {
      "cell_type": "code",
      "execution_count": null,
      "metadata": {
        "id": "ML9TtYjKyWbY"
      },
      "outputs": [],
      "source": []
    },
    {
      "cell_type": "code",
      "execution_count": null,
      "metadata": {
        "colab": {
          "base_uri": "https://localhost:8080/"
        },
        "id": "lHN5FCP1ygTz",
        "outputId": "2083dfc4-cfd8-493a-f6ca-fc480ee221a3"
      },
      "outputs": [
        {
          "data": {
            "text/plain": [
              "Restaurant\n",
              "Kasturi Restaurant       2\n",
              "Anir'S                   2\n",
              "Him Cream                2\n",
              "Fries Before Guys        2\n",
              "Absabsolute Barbecues    2\n",
              "Name: ID, dtype: int64"
            ]
          },
          "execution_count": 125,
          "metadata": {},
          "output_type": "execute_result"
        }
      ],
      "source": [
        "Kolkata = df[df['City']== 'Kolkata']\n",
        "Kolkata_Mostly_ordered_restaurants = Kolkata.groupby('Restaurant')['ID'].count()\n",
        "Kolkata_Mostly_ordered_restaurants.sort_values(ascending=False).head(5)\n"
      ]
    },
    {
      "cell_type": "code",
      "execution_count": null,
      "metadata": {
        "id": "iHnh2kYHypbS"
      },
      "outputs": [],
      "source": []
    },
    {
      "cell_type": "code",
      "execution_count": null,
      "metadata": {
        "colab": {
          "base_uri": "https://localhost:8080/"
        },
        "id": "h-cONgZQypxB",
        "outputId": "07ddc550-718e-48bf-b58c-d5ff0a24b643"
      },
      "outputs": [
        {
          "data": {
            "text/plain": [
              "Restaurant\n",
              "The Lio' Pizza    2\n",
              "Tummy Fillers     2\n",
              "Cake Corner       2\n",
              "Cake Adda         2\n",
              "La Pinoz Pizza    2\n",
              "Name: ID, dtype: int64"
            ]
          },
          "execution_count": 127,
          "metadata": {},
          "output_type": "execute_result"
        }
      ],
      "source": [
        "Ahmedabad = df[df['City']== 'Ahmedabad']\n",
        "Ahmedabad_Mostly_ordered_restaurants = Ahmedabad.groupby('Restaurant')['ID'].count()\n",
        "Ahmedabad_Mostly_ordered_restaurants.sort_values(ascending=False).head(5)\n"
      ]
    },
    {
      "cell_type": "code",
      "execution_count": null,
      "metadata": {
        "id": "UZ2r5hsiy8Aa"
      },
      "outputs": [],
      "source": []
    },
    {
      "cell_type": "code",
      "execution_count": null,
      "metadata": {
        "colab": {
          "base_uri": "https://localhost:8080/"
        },
        "id": "qh-CcbvSy-OF",
        "outputId": "d588e1f8-9e93-4c8e-c70e-715e183718bd"
      },
      "outputs": [
        {
          "data": {
            "text/plain": [
              "Restaurant\n",
              "La Pino'Z Pizza        5\n",
              "Hotel Maruti           2\n",
              "Kutchi King            2\n",
              "Bismillah              2\n",
              "Pandeyji Restaurant    1\n",
              "Name: ID, dtype: int64"
            ]
          },
          "execution_count": 129,
          "metadata": {},
          "output_type": "execute_result"
        }
      ],
      "source": [
        "Surat = df[df['City']== 'Surat']\n",
        "Surat_Mostly_ordered_restaurants = Surat.groupby('Restaurant')['ID'].count()\n",
        "Surat_Mostly_ordered_restaurants.sort_values(ascending=False).head(5)\n"
      ]
    },
    {
      "cell_type": "code",
      "execution_count": null,
      "metadata": {
        "id": "jZhGOlXuzIuJ"
      },
      "outputs": [],
      "source": []
    },
    {
      "cell_type": "code",
      "execution_count": null,
      "metadata": {
        "colab": {
          "base_uri": "https://localhost:8080/"
        },
        "id": "LCBiqdl9zJaU",
        "outputId": "98849d44-28e8-4f79-be8c-f25a0f58c799"
      },
      "outputs": [
        {
          "data": {
            "text/plain": [
              "Restaurant\n",
              " Kishori Lal Paan       1\n",
              "Pooran'S Ambala Wale    1\n",
              "Pizza Hut               1\n",
              "Pizza King              1\n",
              "Pizza Pan               1\n",
              "Name: ID, dtype: int64"
            ]
          },
          "execution_count": 132,
          "metadata": {},
          "output_type": "execute_result"
        }
      ],
      "source": [
        "Delhi = df[df['City']== 'Delhi']\n",
        "Delhi_Mostly_ordered_restaurants = Delhi.groupby('Restaurant')['ID'].count()\n",
        "Delhi_Mostly_ordered_restaurants.sort_values(ascending=False).head(5)\n"
      ]
    },
    {
      "cell_type": "code",
      "execution_count": null,
      "metadata": {
        "id": "4CmcB8KEzVs-"
      },
      "outputs": [],
      "source": []
    },
    {
      "cell_type": "code",
      "execution_count": null,
      "metadata": {
        "colab": {
          "base_uri": "https://localhost:8080/"
        },
        "id": "dqB3GBFnzag6",
        "outputId": "226b51e4-7419-424d-b2fb-98e07793e20c"
      },
      "outputs": [
        {
          "data": {
            "text/plain": [
              "Restaurant\n",
              "Haldirams                       3\n",
              "Kritunga Restaurant             3\n",
              "Pizza Hut                       2\n",
              "Rambharose - Bhattad Ki Idli    2\n",
              "Dairy Den                       2\n",
              "Name: ID, dtype: int64"
            ]
          },
          "execution_count": 134,
          "metadata": {},
          "output_type": "execute_result"
        }
      ],
      "source": [
        "Hyderabad = df[df['City']== 'Hyderabad']\n",
        "Hyderabad_Mostly_ordered_restaurants = Hyderabad.groupby('Restaurant')['ID'].count()\n",
        "Hyderabad_Mostly_ordered_restaurants.sort_values(ascending=False).head(5)\n"
      ]
    },
    {
      "cell_type": "code",
      "execution_count": null,
      "metadata": {
        "id": "U4ITR0Mqz0ZM"
      },
      "outputs": [],
      "source": []
    },
    {
      "cell_type": "code",
      "execution_count": null,
      "metadata": {
        "colab": {
          "base_uri": "https://localhost:8080/"
        },
        "id": "8KvP6jnMz0xm",
        "outputId": "c10e8bea-67ac-4615-9d9f-c3d0a23e0fd4"
      },
      "outputs": [
        {
          "data": {
            "text/plain": [
              "Restaurant\n",
              "Goli Vada Pav No .1               2\n",
              "Raffaele'S Ristorante Pizzeria    2\n",
              "Punjabi Bowl                      2\n",
              "Voosh Thalis & Bowls              2\n",
              "Hari Super Sandwich               2\n",
              "Name: ID, dtype: int64"
            ]
          },
          "execution_count": 135,
          "metadata": {},
          "output_type": "execute_result"
        }
      ],
      "source": [
        "Bangalore = df[df['City']== 'Bangalore']\n",
        "Bangalore_Mostly_ordered_restaurants = Bangalore.groupby('Restaurant')['ID'].count()\n",
        "Bangalore_Mostly_ordered_restaurants.sort_values(ascending=False).head(5)\n"
      ]
    },
    {
      "cell_type": "markdown",
      "metadata": {
        "id": "WWXSfDqifKyy"
      },
      "source": [
        "### This helps in identify customer preferences and popular food destinations allowing Swiggy to highlight high-demand restaurants, optimize delivery logistics, and strengthen partnerships to ensure timely and efficient service delivery, curate special offers thereby enhancing customer satisfaction."
      ]
    },
    {
      "cell_type": "code",
      "execution_count": null,
      "metadata": {
        "id": "0Fl8wuC-fr21"
      },
      "outputs": [],
      "source": []
    }
  ],
  "metadata": {
    "colab": {
      "collapsed_sections": [
        "8aNPjkA7r9Nq"
      ],
      "provenance": []
    },
    "kernelspec": {
      "display_name": "Python 3",
      "name": "python3"
    },
    "language_info": {
      "name": "python"
    }
  },
  "nbformat": 4,
  "nbformat_minor": 0
}